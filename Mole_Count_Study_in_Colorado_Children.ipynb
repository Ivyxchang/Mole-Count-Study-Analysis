{
  "nbformat": 4,
  "nbformat_minor": 0,
  "metadata": {
    "colab": {
      "name": "Thinkful Capstone 3 - Mole Count Study in Colorado Children.ipynb",
      "provenance": [],
      "collapsed_sections": [
        "RmSZS0PApICG",
        "uRMqnLK0PdU0",
        "YABY1Lpd9Jnr"
      ],
      "authorship_tag": "ABX9TyP8nCfA+O49Cq/aXQZzdNs2",
      "include_colab_link": true
    },
    "kernelspec": {
      "name": "python3",
      "display_name": "Python 3"
    },
    "language_info": {
      "name": "python"
    }
  },
  "cells": [
    {
      "cell_type": "markdown",
      "metadata": {
        "id": "view-in-github",
        "colab_type": "text"
      },
      "source": [
        "<a href=\"https://colab.research.google.com/github/Ivyxchang/Mole-Count-Study-Analysis/blob/main/Mole_Count_Study_in_Colorado_Children.ipynb\" target=\"_parent\"><img src=\"https://colab.research.google.com/assets/colab-badge.svg\" alt=\"Open In Colab\"/></a>"
      ]
    },
    {
      "cell_type": "markdown",
      "source": [
        "# **Mole Count Study in Colorado Children**"
      ],
      "metadata": {
        "id": "70wKLz-8tdwF"
      }
    },
    {
      "cell_type": "markdown",
      "source": [
        "# Introduction"
      ],
      "metadata": {
        "id": "h2Nc_qzytY44"
      }
    },
    {
      "cell_type": "markdown",
      "source": [
        "## Background\n",
        "\n",
        "Existing researches show that The presence of moles is the strongest predictor of melanoma risk, because both melanoma and moles arise from melanocytes, and in many cases, moles are thought to be intermediate in the pathway from melanocyte to melanoma. Individuals with high numbers of moles have a 6-7 fold increased risk of melanoma. In addition, most moles develop in childhood, and aside from genetic predisposition, sun exposure is the primary determinant of mole prevalence. Therefore, an understanding of the genetic, environmental, and behavioral factors that contribute to mole growth/development in children is essential for understanding the pathways to melanoma.\n",
        "<br> <br>\n",
        "The purpose of my analyses is to examine if different demographic backgrounds, genetic characteristics, and behavioral factors will affect the number of moles in children.\n",
        "<br> <br>\n",
        "## About the Dataset\n",
        "\n",
        "This project uses the Mole Count Data 2004-2008 dataset.\n",
        "<br> <br>\n",
        "The data includes 472 observations of children in Colorado age 6 followed from baseline to age 10. It has 15 variables including demographic information, genetic information of the observations, and mole counts data across 5 years from 2004 to 2008. \n",
        "<br> <br>\n",
        "The dataset can be found [here](https://raw.githubusercontent.com/Ivyxchang/Mole-Count-Study-Analysis/main/MoleCountData2004-2008.csv).\n",
        "\n",
        "<br>\n",
        "\n",
        "***Data Dictionary:***<br>\n",
        " \n",
        "\n",
        "*   **Respondent Code Number:** id number\n",
        "*   **oca2 status:** 0 = gg, 1 = ga, 2 = aa, 9 = missing\n",
        "*   **gender:** 1 = Female, 2 = Male\n",
        "*   **hispanic:** 0 = No, 1 = Yes\n",
        "*   **molecount2004:** Number of moles in 2004\n",
        "*   **molecount2005:** Number of moles in 2005\n",
        "*   **molecount2006:** Number of moles in 2006\n",
        "*   **molecount2007:** Number of moles in 2007\n",
        "*   **molecount2008:** Number of moles in 2008\n",
        "*   **eyecolor:** 1 = blue, green or combo, 2 = light/dark brown, 3 = hazel\n",
        "*   **baseskincolor:** Skin color based on a continuous score, higher is darker\n",
        "*   **haircolor:** 1 = blonde, 2 = red, 3 = brown, 4 = black\n",
        "*   **number vacs birth thru 2005:** Total number of waterside vacations from birth through 2005\n",
        "*   **number vacs birth thru 2006:** Total number of waterside vacations from birth through 2006\n",
        "*   **number vacs birth thru 2007:** Total number of waterside vacations from birth through 2007"
      ],
      "metadata": {
        "id": "vIb1nb9tXpB_"
      }
    },
    {
      "cell_type": "markdown",
      "source": [
        "# Research Questions and Hypotheses\n"
      ],
      "metadata": {
        "id": "RmSZS0PApICG"
      }
    },
    {
      "cell_type": "markdown",
      "source": [
        "#### **Question 1:** Is there a difference between the mole count for different gender, different ethnicity, different hair color, and different eye color?\n",
        "\n",
        "**Hypothesis 1**\n",
        "> $H_0$: There is no statistically significant difference in the mean of the mole count between male and female\n",
        "\n",
        "> $H_a$: There is a statistically significant difference in the mean of the mole count between male and female\n",
        "\n",
        "**Hypothesis 2**\n",
        "> $H_0$:  There is no statistically significant difference in the mean of the mole count between Hispanic and Non-Hispanic groups\n",
        "\n",
        "> $H_a$: There is a statistically significant difference in the mean of the mole count between Hispanic and Non-Hispanic groups\n",
        "\n",
        "**Hypothesis 3**\n",
        "> $H_0$: There is no statistically significant difference in the mean of the mole count between light hair color and dark hair color groups\n",
        "\n",
        "> $H_a$: There is a statistically significant difference in the mean of the mole count between light hair color and dark hair color groups\n",
        "\n",
        "**Hypothesis 4**\n",
        "> $H_0$: There is no statistically significant difference in the mean of the mole count between blue or green eye color and brown or hazel eye color groups\n",
        "\n",
        "> $H_a$: There is a statistically significant difference in the mean of the mole count between blue or green eye color and brown or hazel eye color groups\n",
        "\n",
        "**Hypothesis 5**\n",
        "> $H_0$: There is no statistically significant difference in the mean of the mole count between lighter base skin color and darker base skin color groups\n",
        "\n",
        "> $H_a$: There is a statistically significant difference in the mean of the mole count between lighter base skin color and darker base skin color groups\n",
        "<br><br>\n",
        "\n",
        "#### **Question 2:** Is there a relationship between the base skin color and the mole count, and is there a relationship between the number of vacations taken and the mole count?\n",
        "**Hypothesis 6**\n",
        "> $H_0$: There is no correlation between the base skin color and the mole count\n",
        "\n",
        "> $H_a$: There is some correlation between the base skin color and the mole count\n",
        "\n",
        "**Hypothesis 7**\n",
        "> $H_0$: There is no correlation between the number of vacations taken and the mole count\n",
        "\n",
        "> $H_a$: There is some correlation between the number of vacations taken and the mole count\n"
      ],
      "metadata": {
        "id": "AQNzjD7-pS5F"
      }
    },
    {
      "cell_type": "markdown",
      "source": [
        "# Getting to Know the Data\n",
        "\n"
      ],
      "metadata": {
        "id": "kdk3s1hyt1Cz"
      }
    },
    {
      "cell_type": "markdown",
      "source": [
        "## Initial Setup\n",
        "First, we will import all libraries we are going to use in this notebook and then load our data."
      ],
      "metadata": {
        "id": "uRMqnLK0PdU0"
      }
    },
    {
      "cell_type": "code",
      "source": [
        "# import and alias libraries\n",
        "import math\n",
        "import numpy as np\n",
        "import pandas as pd\n",
        "import seaborn as sns\n",
        "from scipy import stats\n",
        "import matplotlib.pyplot as plt\n",
        "sns.set()\n",
        "sns.set_style(\"white\")\n",
        "\n",
        "import warnings\n",
        "warnings.filterwarnings('ignore') "
      ],
      "metadata": {
        "id": "n_7zVF8bhueS"
      },
      "execution_count": null,
      "outputs": []
    },
    {
      "cell_type": "code",
      "source": [
        "# import the data from Github\n",
        "url = 'https://raw.githubusercontent.com/Ivyxchang/Mole-Count-Study-Analysis/main/MoleCountData2004-2008.csv'\n",
        "mole_df = pd.read_csv(url, encoding='unicode_escape')"
      ],
      "metadata": {
        "id": "v8wOF2z6HMJi"
      },
      "execution_count": null,
      "outputs": []
    },
    {
      "cell_type": "code",
      "source": [
        "# check the information and the first 5 rows of the dataframe\n",
        "print('--- info ---')\n",
        "mole_df.info()\n",
        "print('\\n')\n",
        "print('--- head ---')\n",
        "mole_df.head()"
      ],
      "metadata": {
        "colab": {
          "base_uri": "https://localhost:8080/",
          "height": 804
        },
        "id": "X97iGsOgdq0F",
        "outputId": "874668b9-ccdd-458c-a32e-92cfceb7ae9c"
      },
      "execution_count": null,
      "outputs": [
        {
          "output_type": "stream",
          "name": "stdout",
          "text": [
            "--- info ---\n",
            "<class 'pandas.core.frame.DataFrame'>\n",
            "RangeIndex: 472 entries, 0 to 471\n",
            "Data columns (total 15 columns):\n",
            " #   Column                        Non-Null Count  Dtype  \n",
            "---  ------                        --------------  -----  \n",
            " 0   Respondent Code Number        472 non-null    int64  \n",
            " 1   oca2 status                   472 non-null    int64  \n",
            " 2   gender                        472 non-null    int64  \n",
            " 3   hispanic                      472 non-null    int64  \n",
            " 4   molecount2004                 411 non-null    float64\n",
            " 5   molecount2005                 427 non-null    float64\n",
            " 6   molecount2006                 438 non-null    float64\n",
            " 7   molecount2007                 450 non-null    float64\n",
            " 8   molecount2008                 415 non-null    float64\n",
            " 9   eyecolor                      472 non-null    int64  \n",
            " 10  baseskincolor                 472 non-null    float64\n",
            " 11  haircolor                     471 non-null    float64\n",
            " 12  number vacs birth thru 2005   472 non-null    int64  \n",
            " 13  number vacs  birth thru 2006  472 non-null    int64  \n",
            " 14  number vacs  birth thru 2007  472 non-null    int64  \n",
            "dtypes: float64(7), int64(8)\n",
            "memory usage: 55.4 KB\n",
            "\n",
            "\n",
            "--- head ---\n"
          ]
        },
        {
          "output_type": "execute_result",
          "data": {
            "text/plain": [
              "   Respondent Code Number  oca2 status  gender  hispanic  molecount2004  \\\n",
              "0                     120            1       1         1            NaN   \n",
              "1                     173            0       1         0            7.0   \n",
              "2                     221            0       2         0            NaN   \n",
              "3                     232            2       1         0           21.0   \n",
              "4                     253            1       1         0            8.0   \n",
              "\n",
              "   molecount2005  molecount2006  molecount2007  molecount2008  eyecolor  \\\n",
              "0           50.0           35.0           43.0           38.0         2   \n",
              "1           25.0           27.0           22.0           19.0         1   \n",
              "2            NaN           11.0            5.0            1.0         1   \n",
              "3           21.0           25.0           33.0            NaN         2   \n",
              "4           20.0           20.0           46.0           75.0         3   \n",
              "\n",
              "   baseskincolor  haircolor  number vacs birth thru 2005  \\\n",
              "0      10.562702        3.0                            1   \n",
              "1      10.644993        3.0                            1   \n",
              "2       7.391360        2.0                            1   \n",
              "3      11.036958        3.0                            0   \n",
              "4      10.881760        3.0                            1   \n",
              "\n",
              "   number vacs  birth thru 2006  number vacs  birth thru 2007  \n",
              "0                             1                             1  \n",
              "1                             1                             1  \n",
              "2                             1                             1  \n",
              "3                             0                             0  \n",
              "4                             1                             3  "
            ],
            "text/html": [
              "\n",
              "  <div id=\"df-bf15838e-7a0a-43f5-a1d8-13a4647170e6\">\n",
              "    <div class=\"colab-df-container\">\n",
              "      <div>\n",
              "<style scoped>\n",
              "    .dataframe tbody tr th:only-of-type {\n",
              "        vertical-align: middle;\n",
              "    }\n",
              "\n",
              "    .dataframe tbody tr th {\n",
              "        vertical-align: top;\n",
              "    }\n",
              "\n",
              "    .dataframe thead th {\n",
              "        text-align: right;\n",
              "    }\n",
              "</style>\n",
              "<table border=\"1\" class=\"dataframe\">\n",
              "  <thead>\n",
              "    <tr style=\"text-align: right;\">\n",
              "      <th></th>\n",
              "      <th>Respondent Code Number</th>\n",
              "      <th>oca2 status</th>\n",
              "      <th>gender</th>\n",
              "      <th>hispanic</th>\n",
              "      <th>molecount2004</th>\n",
              "      <th>molecount2005</th>\n",
              "      <th>molecount2006</th>\n",
              "      <th>molecount2007</th>\n",
              "      <th>molecount2008</th>\n",
              "      <th>eyecolor</th>\n",
              "      <th>baseskincolor</th>\n",
              "      <th>haircolor</th>\n",
              "      <th>number vacs birth thru 2005</th>\n",
              "      <th>number vacs  birth thru 2006</th>\n",
              "      <th>number vacs  birth thru 2007</th>\n",
              "    </tr>\n",
              "  </thead>\n",
              "  <tbody>\n",
              "    <tr>\n",
              "      <th>0</th>\n",
              "      <td>120</td>\n",
              "      <td>1</td>\n",
              "      <td>1</td>\n",
              "      <td>1</td>\n",
              "      <td>NaN</td>\n",
              "      <td>50.0</td>\n",
              "      <td>35.0</td>\n",
              "      <td>43.0</td>\n",
              "      <td>38.0</td>\n",
              "      <td>2</td>\n",
              "      <td>10.562702</td>\n",
              "      <td>3.0</td>\n",
              "      <td>1</td>\n",
              "      <td>1</td>\n",
              "      <td>1</td>\n",
              "    </tr>\n",
              "    <tr>\n",
              "      <th>1</th>\n",
              "      <td>173</td>\n",
              "      <td>0</td>\n",
              "      <td>1</td>\n",
              "      <td>0</td>\n",
              "      <td>7.0</td>\n",
              "      <td>25.0</td>\n",
              "      <td>27.0</td>\n",
              "      <td>22.0</td>\n",
              "      <td>19.0</td>\n",
              "      <td>1</td>\n",
              "      <td>10.644993</td>\n",
              "      <td>3.0</td>\n",
              "      <td>1</td>\n",
              "      <td>1</td>\n",
              "      <td>1</td>\n",
              "    </tr>\n",
              "    <tr>\n",
              "      <th>2</th>\n",
              "      <td>221</td>\n",
              "      <td>0</td>\n",
              "      <td>2</td>\n",
              "      <td>0</td>\n",
              "      <td>NaN</td>\n",
              "      <td>NaN</td>\n",
              "      <td>11.0</td>\n",
              "      <td>5.0</td>\n",
              "      <td>1.0</td>\n",
              "      <td>1</td>\n",
              "      <td>7.391360</td>\n",
              "      <td>2.0</td>\n",
              "      <td>1</td>\n",
              "      <td>1</td>\n",
              "      <td>1</td>\n",
              "    </tr>\n",
              "    <tr>\n",
              "      <th>3</th>\n",
              "      <td>232</td>\n",
              "      <td>2</td>\n",
              "      <td>1</td>\n",
              "      <td>0</td>\n",
              "      <td>21.0</td>\n",
              "      <td>21.0</td>\n",
              "      <td>25.0</td>\n",
              "      <td>33.0</td>\n",
              "      <td>NaN</td>\n",
              "      <td>2</td>\n",
              "      <td>11.036958</td>\n",
              "      <td>3.0</td>\n",
              "      <td>0</td>\n",
              "      <td>0</td>\n",
              "      <td>0</td>\n",
              "    </tr>\n",
              "    <tr>\n",
              "      <th>4</th>\n",
              "      <td>253</td>\n",
              "      <td>1</td>\n",
              "      <td>1</td>\n",
              "      <td>0</td>\n",
              "      <td>8.0</td>\n",
              "      <td>20.0</td>\n",
              "      <td>20.0</td>\n",
              "      <td>46.0</td>\n",
              "      <td>75.0</td>\n",
              "      <td>3</td>\n",
              "      <td>10.881760</td>\n",
              "      <td>3.0</td>\n",
              "      <td>1</td>\n",
              "      <td>1</td>\n",
              "      <td>3</td>\n",
              "    </tr>\n",
              "  </tbody>\n",
              "</table>\n",
              "</div>\n",
              "      <button class=\"colab-df-convert\" onclick=\"convertToInteractive('df-bf15838e-7a0a-43f5-a1d8-13a4647170e6')\"\n",
              "              title=\"Convert this dataframe to an interactive table.\"\n",
              "              style=\"display:none;\">\n",
              "        \n",
              "  <svg xmlns=\"http://www.w3.org/2000/svg\" height=\"24px\"viewBox=\"0 0 24 24\"\n",
              "       width=\"24px\">\n",
              "    <path d=\"M0 0h24v24H0V0z\" fill=\"none\"/>\n",
              "    <path d=\"M18.56 5.44l.94 2.06.94-2.06 2.06-.94-2.06-.94-.94-2.06-.94 2.06-2.06.94zm-11 1L8.5 8.5l.94-2.06 2.06-.94-2.06-.94L8.5 2.5l-.94 2.06-2.06.94zm10 10l.94 2.06.94-2.06 2.06-.94-2.06-.94-.94-2.06-.94 2.06-2.06.94z\"/><path d=\"M17.41 7.96l-1.37-1.37c-.4-.4-.92-.59-1.43-.59-.52 0-1.04.2-1.43.59L10.3 9.45l-7.72 7.72c-.78.78-.78 2.05 0 2.83L4 21.41c.39.39.9.59 1.41.59.51 0 1.02-.2 1.41-.59l7.78-7.78 2.81-2.81c.8-.78.8-2.07 0-2.86zM5.41 20L4 18.59l7.72-7.72 1.47 1.35L5.41 20z\"/>\n",
              "  </svg>\n",
              "      </button>\n",
              "      \n",
              "  <style>\n",
              "    .colab-df-container {\n",
              "      display:flex;\n",
              "      flex-wrap:wrap;\n",
              "      gap: 12px;\n",
              "    }\n",
              "\n",
              "    .colab-df-convert {\n",
              "      background-color: #E8F0FE;\n",
              "      border: none;\n",
              "      border-radius: 50%;\n",
              "      cursor: pointer;\n",
              "      display: none;\n",
              "      fill: #1967D2;\n",
              "      height: 32px;\n",
              "      padding: 0 0 0 0;\n",
              "      width: 32px;\n",
              "    }\n",
              "\n",
              "    .colab-df-convert:hover {\n",
              "      background-color: #E2EBFA;\n",
              "      box-shadow: 0px 1px 2px rgba(60, 64, 67, 0.3), 0px 1px 3px 1px rgba(60, 64, 67, 0.15);\n",
              "      fill: #174EA6;\n",
              "    }\n",
              "\n",
              "    [theme=dark] .colab-df-convert {\n",
              "      background-color: #3B4455;\n",
              "      fill: #D2E3FC;\n",
              "    }\n",
              "\n",
              "    [theme=dark] .colab-df-convert:hover {\n",
              "      background-color: #434B5C;\n",
              "      box-shadow: 0px 1px 3px 1px rgba(0, 0, 0, 0.15);\n",
              "      filter: drop-shadow(0px 1px 2px rgba(0, 0, 0, 0.3));\n",
              "      fill: #FFFFFF;\n",
              "    }\n",
              "  </style>\n",
              "\n",
              "      <script>\n",
              "        const buttonEl =\n",
              "          document.querySelector('#df-bf15838e-7a0a-43f5-a1d8-13a4647170e6 button.colab-df-convert');\n",
              "        buttonEl.style.display =\n",
              "          google.colab.kernel.accessAllowed ? 'block' : 'none';\n",
              "\n",
              "        async function convertToInteractive(key) {\n",
              "          const element = document.querySelector('#df-bf15838e-7a0a-43f5-a1d8-13a4647170e6');\n",
              "          const dataTable =\n",
              "            await google.colab.kernel.invokeFunction('convertToInteractive',\n",
              "                                                     [key], {});\n",
              "          if (!dataTable) return;\n",
              "\n",
              "          const docLinkHtml = 'Like what you see? Visit the ' +\n",
              "            '<a target=\"_blank\" href=https://colab.research.google.com/notebooks/data_table.ipynb>data table notebook</a>'\n",
              "            + ' to learn more about interactive tables.';\n",
              "          element.innerHTML = '';\n",
              "          dataTable['output_type'] = 'display_data';\n",
              "          await google.colab.output.renderOutput(dataTable, element);\n",
              "          const docLink = document.createElement('div');\n",
              "          docLink.innerHTML = docLinkHtml;\n",
              "          element.appendChild(docLink);\n",
              "        }\n",
              "      </script>\n",
              "    </div>\n",
              "  </div>\n",
              "  "
            ]
          },
          "metadata": {},
          "execution_count": 36
        }
      ]
    },
    {
      "cell_type": "markdown",
      "source": [
        "## Explore and Clean the Data\n",
        "\n",
        "Then, we need to clean the data and have a deeper understanding of it."
      ],
      "metadata": {
        "id": "s2eHRZ_lPuru"
      }
    },
    {
      "cell_type": "markdown",
      "source": [
        "### Data Cleaning"
      ],
      "metadata": {
        "id": "YABY1Lpd9Jnr"
      }
    },
    {
      "cell_type": "markdown",
      "source": [
        "First, we take a look at all the columns of our dataset."
      ],
      "metadata": {
        "id": "A4okGoFqOnrY"
      }
    },
    {
      "cell_type": "code",
      "source": [
        "mole_df.columns"
      ],
      "metadata": {
        "colab": {
          "base_uri": "https://localhost:8080/"
        },
        "id": "urgOxMFwevoc",
        "outputId": "a17b216d-02f9-4d07-a515-32f015de2261"
      },
      "execution_count": null,
      "outputs": [
        {
          "output_type": "execute_result",
          "data": {
            "text/plain": [
              "Index(['Respondent Code Number', 'oca2 status', 'gender', 'hispanic',\n",
              "       'molecount2004', 'molecount2005', 'molecount2006', 'molecount2007',\n",
              "       'molecount2008', 'eyecolor', 'baseskincolor', 'haircolor',\n",
              "       'number vacs birth thru 2005', 'number vacs  birth thru 2006',\n",
              "       'number vacs  birth thru 2007'],\n",
              "      dtype='object')"
            ]
          },
          "metadata": {},
          "execution_count": 37
        }
      ]
    },
    {
      "cell_type": "markdown",
      "source": [
        "This analysis is not going to focus on the genotype and the longitudinal study of mole development over years, and it will use the data from the most recent year. Therefore the below columns can be excluded:<br>\n",
        "\n",
        ">> **ID**\n",
        " *   Respondent Code Number\n",
        "\n",
        ">> **Genotype**\n",
        " *  oca2 status\n",
        "\n",
        ">> **Earlier years**\n",
        " *  molecount 2004\n",
        " *  molecount 2005\n",
        " *  molecount 2006\n",
        " *  molecount 2007\n",
        " *  number vacs birth thru 2005\n",
        " *  number vacs birth thru 2006\n",
        "\n",
        "\n",
        "\n",
        "\n",
        "\n"
      ],
      "metadata": {
        "id": "A8LzYLB2Qt-i"
      }
    },
    {
      "cell_type": "markdown",
      "source": [
        "Now, we generate a DataFrame with only the columns we need for this analysis.\n",
        "\n"
      ],
      "metadata": {
        "id": "9zrQS1HZST8N"
      }
    },
    {
      "cell_type": "code",
      "source": [
        "# keep the columns we need for this analysis\n",
        "mole_df = mole_df.loc[:, ['gender', 'hispanic', 'molecount2008', 'eyecolor', 'baseskincolor', 'haircolor','number vacs  birth thru 2007']]\n",
        "\n",
        "#check out what the new dataframe look like\n",
        "mole_df.head()"
      ],
      "metadata": {
        "id": "KJ3ZDE6LjXoJ",
        "colab": {
          "base_uri": "https://localhost:8080/",
          "height": 206
        },
        "outputId": "7725576b-ca93-46f0-f009-4fefa0813551"
      },
      "execution_count": null,
      "outputs": [
        {
          "output_type": "execute_result",
          "data": {
            "text/plain": [
              "   gender  hispanic  molecount2008  eyecolor  baseskincolor  haircolor  \\\n",
              "0       1         1           38.0         2      10.562702        3.0   \n",
              "1       1         0           19.0         1      10.644993        3.0   \n",
              "2       2         0            1.0         1       7.391360        2.0   \n",
              "3       1         0            NaN         2      11.036958        3.0   \n",
              "4       1         0           75.0         3      10.881760        3.0   \n",
              "\n",
              "   number vacs  birth thru 2007  \n",
              "0                             1  \n",
              "1                             1  \n",
              "2                             1  \n",
              "3                             0  \n",
              "4                             3  "
            ],
            "text/html": [
              "\n",
              "  <div id=\"df-b2092f2d-f385-4935-b594-fdc87fb17ff0\">\n",
              "    <div class=\"colab-df-container\">\n",
              "      <div>\n",
              "<style scoped>\n",
              "    .dataframe tbody tr th:only-of-type {\n",
              "        vertical-align: middle;\n",
              "    }\n",
              "\n",
              "    .dataframe tbody tr th {\n",
              "        vertical-align: top;\n",
              "    }\n",
              "\n",
              "    .dataframe thead th {\n",
              "        text-align: right;\n",
              "    }\n",
              "</style>\n",
              "<table border=\"1\" class=\"dataframe\">\n",
              "  <thead>\n",
              "    <tr style=\"text-align: right;\">\n",
              "      <th></th>\n",
              "      <th>gender</th>\n",
              "      <th>hispanic</th>\n",
              "      <th>molecount2008</th>\n",
              "      <th>eyecolor</th>\n",
              "      <th>baseskincolor</th>\n",
              "      <th>haircolor</th>\n",
              "      <th>number vacs  birth thru 2007</th>\n",
              "    </tr>\n",
              "  </thead>\n",
              "  <tbody>\n",
              "    <tr>\n",
              "      <th>0</th>\n",
              "      <td>1</td>\n",
              "      <td>1</td>\n",
              "      <td>38.0</td>\n",
              "      <td>2</td>\n",
              "      <td>10.562702</td>\n",
              "      <td>3.0</td>\n",
              "      <td>1</td>\n",
              "    </tr>\n",
              "    <tr>\n",
              "      <th>1</th>\n",
              "      <td>1</td>\n",
              "      <td>0</td>\n",
              "      <td>19.0</td>\n",
              "      <td>1</td>\n",
              "      <td>10.644993</td>\n",
              "      <td>3.0</td>\n",
              "      <td>1</td>\n",
              "    </tr>\n",
              "    <tr>\n",
              "      <th>2</th>\n",
              "      <td>2</td>\n",
              "      <td>0</td>\n",
              "      <td>1.0</td>\n",
              "      <td>1</td>\n",
              "      <td>7.391360</td>\n",
              "      <td>2.0</td>\n",
              "      <td>1</td>\n",
              "    </tr>\n",
              "    <tr>\n",
              "      <th>3</th>\n",
              "      <td>1</td>\n",
              "      <td>0</td>\n",
              "      <td>NaN</td>\n",
              "      <td>2</td>\n",
              "      <td>11.036958</td>\n",
              "      <td>3.0</td>\n",
              "      <td>0</td>\n",
              "    </tr>\n",
              "    <tr>\n",
              "      <th>4</th>\n",
              "      <td>1</td>\n",
              "      <td>0</td>\n",
              "      <td>75.0</td>\n",
              "      <td>3</td>\n",
              "      <td>10.881760</td>\n",
              "      <td>3.0</td>\n",
              "      <td>3</td>\n",
              "    </tr>\n",
              "  </tbody>\n",
              "</table>\n",
              "</div>\n",
              "      <button class=\"colab-df-convert\" onclick=\"convertToInteractive('df-b2092f2d-f385-4935-b594-fdc87fb17ff0')\"\n",
              "              title=\"Convert this dataframe to an interactive table.\"\n",
              "              style=\"display:none;\">\n",
              "        \n",
              "  <svg xmlns=\"http://www.w3.org/2000/svg\" height=\"24px\"viewBox=\"0 0 24 24\"\n",
              "       width=\"24px\">\n",
              "    <path d=\"M0 0h24v24H0V0z\" fill=\"none\"/>\n",
              "    <path d=\"M18.56 5.44l.94 2.06.94-2.06 2.06-.94-2.06-.94-.94-2.06-.94 2.06-2.06.94zm-11 1L8.5 8.5l.94-2.06 2.06-.94-2.06-.94L8.5 2.5l-.94 2.06-2.06.94zm10 10l.94 2.06.94-2.06 2.06-.94-2.06-.94-.94-2.06-.94 2.06-2.06.94z\"/><path d=\"M17.41 7.96l-1.37-1.37c-.4-.4-.92-.59-1.43-.59-.52 0-1.04.2-1.43.59L10.3 9.45l-7.72 7.72c-.78.78-.78 2.05 0 2.83L4 21.41c.39.39.9.59 1.41.59.51 0 1.02-.2 1.41-.59l7.78-7.78 2.81-2.81c.8-.78.8-2.07 0-2.86zM5.41 20L4 18.59l7.72-7.72 1.47 1.35L5.41 20z\"/>\n",
              "  </svg>\n",
              "      </button>\n",
              "      \n",
              "  <style>\n",
              "    .colab-df-container {\n",
              "      display:flex;\n",
              "      flex-wrap:wrap;\n",
              "      gap: 12px;\n",
              "    }\n",
              "\n",
              "    .colab-df-convert {\n",
              "      background-color: #E8F0FE;\n",
              "      border: none;\n",
              "      border-radius: 50%;\n",
              "      cursor: pointer;\n",
              "      display: none;\n",
              "      fill: #1967D2;\n",
              "      height: 32px;\n",
              "      padding: 0 0 0 0;\n",
              "      width: 32px;\n",
              "    }\n",
              "\n",
              "    .colab-df-convert:hover {\n",
              "      background-color: #E2EBFA;\n",
              "      box-shadow: 0px 1px 2px rgba(60, 64, 67, 0.3), 0px 1px 3px 1px rgba(60, 64, 67, 0.15);\n",
              "      fill: #174EA6;\n",
              "    }\n",
              "\n",
              "    [theme=dark] .colab-df-convert {\n",
              "      background-color: #3B4455;\n",
              "      fill: #D2E3FC;\n",
              "    }\n",
              "\n",
              "    [theme=dark] .colab-df-convert:hover {\n",
              "      background-color: #434B5C;\n",
              "      box-shadow: 0px 1px 3px 1px rgba(0, 0, 0, 0.15);\n",
              "      filter: drop-shadow(0px 1px 2px rgba(0, 0, 0, 0.3));\n",
              "      fill: #FFFFFF;\n",
              "    }\n",
              "  </style>\n",
              "\n",
              "      <script>\n",
              "        const buttonEl =\n",
              "          document.querySelector('#df-b2092f2d-f385-4935-b594-fdc87fb17ff0 button.colab-df-convert');\n",
              "        buttonEl.style.display =\n",
              "          google.colab.kernel.accessAllowed ? 'block' : 'none';\n",
              "\n",
              "        async function convertToInteractive(key) {\n",
              "          const element = document.querySelector('#df-b2092f2d-f385-4935-b594-fdc87fb17ff0');\n",
              "          const dataTable =\n",
              "            await google.colab.kernel.invokeFunction('convertToInteractive',\n",
              "                                                     [key], {});\n",
              "          if (!dataTable) return;\n",
              "\n",
              "          const docLinkHtml = 'Like what you see? Visit the ' +\n",
              "            '<a target=\"_blank\" href=https://colab.research.google.com/notebooks/data_table.ipynb>data table notebook</a>'\n",
              "            + ' to learn more about interactive tables.';\n",
              "          element.innerHTML = '';\n",
              "          dataTable['output_type'] = 'display_data';\n",
              "          await google.colab.output.renderOutput(dataTable, element);\n",
              "          const docLink = document.createElement('div');\n",
              "          docLink.innerHTML = docLinkHtml;\n",
              "          element.appendChild(docLink);\n",
              "        }\n",
              "      </script>\n",
              "    </div>\n",
              "  </div>\n",
              "  "
            ]
          },
          "metadata": {},
          "execution_count": 38
        }
      ]
    },
    {
      "cell_type": "markdown",
      "source": [
        "And then, we check where the nulls are and make a decision on if we want to drop the nulls for our analysis."
      ],
      "metadata": {
        "id": "cuZNFFjcT1b_"
      }
    },
    {
      "cell_type": "code",
      "source": [
        "# checking for rows with a null in any column\n",
        "null_rows = mole_df[mole_df.isnull().any(axis=1)] \n",
        "print(\"There are {} rows with a null out of {} rows in the dataset\".format(len(null_rows),len(mole_df)))"
      ],
      "metadata": {
        "colab": {
          "base_uri": "https://localhost:8080/"
        },
        "id": "Bg__Q4uPY_ud",
        "outputId": "afd0bb5e-31f6-4a84-b060-458ce585b2e1"
      },
      "execution_count": null,
      "outputs": [
        {
          "output_type": "stream",
          "name": "stdout",
          "text": [
            "There are 58 rows with a null out of 472 rows in the dataset\n"
          ]
        }
      ]
    },
    {
      "cell_type": "code",
      "source": [
        "# checking for nulls\n",
        "mole_df.isnull().sum()"
      ],
      "metadata": {
        "colab": {
          "base_uri": "https://localhost:8080/"
        },
        "id": "ihpsTha2FNBj",
        "outputId": "1e7ecd8e-da02-4a35-ae1a-a43089a83def"
      },
      "execution_count": null,
      "outputs": [
        {
          "output_type": "execute_result",
          "data": {
            "text/plain": [
              "gender                           0\n",
              "hispanic                         0\n",
              "molecount2008                   57\n",
              "eyecolor                         0\n",
              "baseskincolor                    0\n",
              "haircolor                        1\n",
              "number vacs  birth thru 2007     0\n",
              "dtype: int64"
            ]
          },
          "metadata": {},
          "execution_count": 40
        }
      ]
    },
    {
      "cell_type": "markdown",
      "source": [
        "There are 57 null values in the **molecount2008** column and 1 null value in the **haircolor** column. Filling the null values won't help with our analysis, so we should drop the rows with the null values."
      ],
      "metadata": {
        "id": "SFMPh1WmYlCN"
      }
    },
    {
      "cell_type": "code",
      "source": [
        "# drop the null values\n",
        "print(\"The starting size of mole_df is {}\".format(len(mole_df)))\n",
        "clean_mole_df = mole_df.dropna()\n",
        "print(\"The size of the cleaned dataframe is {}\".format(len(clean_mole_df)))"
      ],
      "metadata": {
        "id": "60ow2Yu-XY55",
        "colab": {
          "base_uri": "https://localhost:8080/"
        },
        "outputId": "4e9bedce-0813-4920-fa0b-df3b4192ddae"
      },
      "execution_count": null,
      "outputs": [
        {
          "output_type": "stream",
          "name": "stdout",
          "text": [
            "The starting size of mole_df is 472\n",
            "The size of the cleaned dataframe is 414\n"
          ]
        }
      ]
    },
    {
      "cell_type": "markdown",
      "source": [
        "Here, we examine the information and the first 5 rows of the cleaned data again before we move on to the next step."
      ],
      "metadata": {
        "id": "022hbgiIVA5R"
      }
    },
    {
      "cell_type": "code",
      "source": [
        "# check the information and first 5 rows of the cleaned dataframe\n",
        "clean_mole_df.info()\n",
        "clean_mole_df.head()"
      ],
      "metadata": {
        "colab": {
          "base_uri": "https://localhost:8080/",
          "height": 456
        },
        "id": "Lh3EA6kk8-Td",
        "outputId": "310f3cbf-b927-471f-b49f-2840e45d788d"
      },
      "execution_count": null,
      "outputs": [
        {
          "output_type": "stream",
          "name": "stdout",
          "text": [
            "<class 'pandas.core.frame.DataFrame'>\n",
            "Int64Index: 414 entries, 0 to 470\n",
            "Data columns (total 7 columns):\n",
            " #   Column                        Non-Null Count  Dtype  \n",
            "---  ------                        --------------  -----  \n",
            " 0   gender                        414 non-null    int64  \n",
            " 1   hispanic                      414 non-null    int64  \n",
            " 2   molecount2008                 414 non-null    float64\n",
            " 3   eyecolor                      414 non-null    int64  \n",
            " 4   baseskincolor                 414 non-null    float64\n",
            " 5   haircolor                     414 non-null    float64\n",
            " 6   number vacs  birth thru 2007  414 non-null    int64  \n",
            "dtypes: float64(3), int64(4)\n",
            "memory usage: 25.9 KB\n"
          ]
        },
        {
          "output_type": "execute_result",
          "data": {
            "text/plain": [
              "   gender  hispanic  molecount2008  eyecolor  baseskincolor  haircolor  \\\n",
              "0       1         1           38.0         2      10.562702        3.0   \n",
              "1       1         0           19.0         1      10.644993        3.0   \n",
              "2       2         0            1.0         1       7.391360        2.0   \n",
              "4       1         0           75.0         3      10.881760        3.0   \n",
              "5       2         0           59.0         3       9.604847        1.0   \n",
              "\n",
              "   number vacs  birth thru 2007  \n",
              "0                             1  \n",
              "1                             1  \n",
              "2                             1  \n",
              "4                             3  \n",
              "5                             2  "
            ],
            "text/html": [
              "\n",
              "  <div id=\"df-1a706fd6-6b40-4878-88cb-60281e02e968\">\n",
              "    <div class=\"colab-df-container\">\n",
              "      <div>\n",
              "<style scoped>\n",
              "    .dataframe tbody tr th:only-of-type {\n",
              "        vertical-align: middle;\n",
              "    }\n",
              "\n",
              "    .dataframe tbody tr th {\n",
              "        vertical-align: top;\n",
              "    }\n",
              "\n",
              "    .dataframe thead th {\n",
              "        text-align: right;\n",
              "    }\n",
              "</style>\n",
              "<table border=\"1\" class=\"dataframe\">\n",
              "  <thead>\n",
              "    <tr style=\"text-align: right;\">\n",
              "      <th></th>\n",
              "      <th>gender</th>\n",
              "      <th>hispanic</th>\n",
              "      <th>molecount2008</th>\n",
              "      <th>eyecolor</th>\n",
              "      <th>baseskincolor</th>\n",
              "      <th>haircolor</th>\n",
              "      <th>number vacs  birth thru 2007</th>\n",
              "    </tr>\n",
              "  </thead>\n",
              "  <tbody>\n",
              "    <tr>\n",
              "      <th>0</th>\n",
              "      <td>1</td>\n",
              "      <td>1</td>\n",
              "      <td>38.0</td>\n",
              "      <td>2</td>\n",
              "      <td>10.562702</td>\n",
              "      <td>3.0</td>\n",
              "      <td>1</td>\n",
              "    </tr>\n",
              "    <tr>\n",
              "      <th>1</th>\n",
              "      <td>1</td>\n",
              "      <td>0</td>\n",
              "      <td>19.0</td>\n",
              "      <td>1</td>\n",
              "      <td>10.644993</td>\n",
              "      <td>3.0</td>\n",
              "      <td>1</td>\n",
              "    </tr>\n",
              "    <tr>\n",
              "      <th>2</th>\n",
              "      <td>2</td>\n",
              "      <td>0</td>\n",
              "      <td>1.0</td>\n",
              "      <td>1</td>\n",
              "      <td>7.391360</td>\n",
              "      <td>2.0</td>\n",
              "      <td>1</td>\n",
              "    </tr>\n",
              "    <tr>\n",
              "      <th>4</th>\n",
              "      <td>1</td>\n",
              "      <td>0</td>\n",
              "      <td>75.0</td>\n",
              "      <td>3</td>\n",
              "      <td>10.881760</td>\n",
              "      <td>3.0</td>\n",
              "      <td>3</td>\n",
              "    </tr>\n",
              "    <tr>\n",
              "      <th>5</th>\n",
              "      <td>2</td>\n",
              "      <td>0</td>\n",
              "      <td>59.0</td>\n",
              "      <td>3</td>\n",
              "      <td>9.604847</td>\n",
              "      <td>1.0</td>\n",
              "      <td>2</td>\n",
              "    </tr>\n",
              "  </tbody>\n",
              "</table>\n",
              "</div>\n",
              "      <button class=\"colab-df-convert\" onclick=\"convertToInteractive('df-1a706fd6-6b40-4878-88cb-60281e02e968')\"\n",
              "              title=\"Convert this dataframe to an interactive table.\"\n",
              "              style=\"display:none;\">\n",
              "        \n",
              "  <svg xmlns=\"http://www.w3.org/2000/svg\" height=\"24px\"viewBox=\"0 0 24 24\"\n",
              "       width=\"24px\">\n",
              "    <path d=\"M0 0h24v24H0V0z\" fill=\"none\"/>\n",
              "    <path d=\"M18.56 5.44l.94 2.06.94-2.06 2.06-.94-2.06-.94-.94-2.06-.94 2.06-2.06.94zm-11 1L8.5 8.5l.94-2.06 2.06-.94-2.06-.94L8.5 2.5l-.94 2.06-2.06.94zm10 10l.94 2.06.94-2.06 2.06-.94-2.06-.94-.94-2.06-.94 2.06-2.06.94z\"/><path d=\"M17.41 7.96l-1.37-1.37c-.4-.4-.92-.59-1.43-.59-.52 0-1.04.2-1.43.59L10.3 9.45l-7.72 7.72c-.78.78-.78 2.05 0 2.83L4 21.41c.39.39.9.59 1.41.59.51 0 1.02-.2 1.41-.59l7.78-7.78 2.81-2.81c.8-.78.8-2.07 0-2.86zM5.41 20L4 18.59l7.72-7.72 1.47 1.35L5.41 20z\"/>\n",
              "  </svg>\n",
              "      </button>\n",
              "      \n",
              "  <style>\n",
              "    .colab-df-container {\n",
              "      display:flex;\n",
              "      flex-wrap:wrap;\n",
              "      gap: 12px;\n",
              "    }\n",
              "\n",
              "    .colab-df-convert {\n",
              "      background-color: #E8F0FE;\n",
              "      border: none;\n",
              "      border-radius: 50%;\n",
              "      cursor: pointer;\n",
              "      display: none;\n",
              "      fill: #1967D2;\n",
              "      height: 32px;\n",
              "      padding: 0 0 0 0;\n",
              "      width: 32px;\n",
              "    }\n",
              "\n",
              "    .colab-df-convert:hover {\n",
              "      background-color: #E2EBFA;\n",
              "      box-shadow: 0px 1px 2px rgba(60, 64, 67, 0.3), 0px 1px 3px 1px rgba(60, 64, 67, 0.15);\n",
              "      fill: #174EA6;\n",
              "    }\n",
              "\n",
              "    [theme=dark] .colab-df-convert {\n",
              "      background-color: #3B4455;\n",
              "      fill: #D2E3FC;\n",
              "    }\n",
              "\n",
              "    [theme=dark] .colab-df-convert:hover {\n",
              "      background-color: #434B5C;\n",
              "      box-shadow: 0px 1px 3px 1px rgba(0, 0, 0, 0.15);\n",
              "      filter: drop-shadow(0px 1px 2px rgba(0, 0, 0, 0.3));\n",
              "      fill: #FFFFFF;\n",
              "    }\n",
              "  </style>\n",
              "\n",
              "      <script>\n",
              "        const buttonEl =\n",
              "          document.querySelector('#df-1a706fd6-6b40-4878-88cb-60281e02e968 button.colab-df-convert');\n",
              "        buttonEl.style.display =\n",
              "          google.colab.kernel.accessAllowed ? 'block' : 'none';\n",
              "\n",
              "        async function convertToInteractive(key) {\n",
              "          const element = document.querySelector('#df-1a706fd6-6b40-4878-88cb-60281e02e968');\n",
              "          const dataTable =\n",
              "            await google.colab.kernel.invokeFunction('convertToInteractive',\n",
              "                                                     [key], {});\n",
              "          if (!dataTable) return;\n",
              "\n",
              "          const docLinkHtml = 'Like what you see? Visit the ' +\n",
              "            '<a target=\"_blank\" href=https://colab.research.google.com/notebooks/data_table.ipynb>data table notebook</a>'\n",
              "            + ' to learn more about interactive tables.';\n",
              "          element.innerHTML = '';\n",
              "          dataTable['output_type'] = 'display_data';\n",
              "          await google.colab.output.renderOutput(dataTable, element);\n",
              "          const docLink = document.createElement('div');\n",
              "          docLink.innerHTML = docLinkHtml;\n",
              "          element.appendChild(docLink);\n",
              "        }\n",
              "      </script>\n",
              "    </div>\n",
              "  </div>\n",
              "  "
            ]
          },
          "metadata": {},
          "execution_count": 42
        }
      ]
    },
    {
      "cell_type": "markdown",
      "source": [
        "Now, our data look clean and ready for a deeper look."
      ],
      "metadata": {
        "id": "b_e8tAbj9-EH"
      }
    },
    {
      "cell_type": "markdown",
      "source": [
        "### Data Exploration"
      ],
      "metadata": {
        "id": "ZYWvrYgq-t0B"
      }
    },
    {
      "cell_type": "markdown",
      "source": [
        "Let's take a look at how the 2008 mole count is destributed."
      ],
      "metadata": {
        "id": "w9Rukjfn-7Tq"
      }
    },
    {
      "cell_type": "code",
      "source": [
        "print(clean_mole_df['molecount2008'].describe())\n",
        "plt.figure(figsize = (8,6))\n",
        "ax = sns.histplot(clean_mole_df['molecount2008'], bins = 15, kde = True)\n",
        "sns.despine()"
      ],
      "metadata": {
        "colab": {
          "base_uri": "https://localhost:8080/",
          "height": 555
        },
        "id": "u8mkoANMI3Kr",
        "outputId": "4288b7a2-47e9-4863-f681-c90ecb6cbb3e"
      },
      "execution_count": null,
      "outputs": [
        {
          "output_type": "stream",
          "name": "stdout",
          "text": [
            "count    414.000000\n",
            "mean      50.833333\n",
            "std       30.152618\n",
            "min        1.000000\n",
            "25%       30.000000\n",
            "50%       45.000000\n",
            "75%       65.000000\n",
            "max      187.000000\n",
            "Name: molecount2008, dtype: float64\n"
          ]
        },
        {
          "output_type": "display_data",
          "data": {
            "text/plain": [
              "<Figure size 576x432 with 1 Axes>"
            ],
            "image/png": "[encoded data removed]"
          },
          "metadata": {}
        }
      ]
    },
    {
      "cell_type": "markdown",
      "source": [
        "We can see a bell curve from the histogram, and the 2008 mole count is right skewed."
      ],
      "metadata": {
        "id": "u27YrIB-cXF1"
      }
    },
    {
      "cell_type": "markdown",
      "source": [
        "Next, let's take a look at how the 2008 mole count is distributed across different demographic backgrounds and genetic characteristics."
      ],
      "metadata": {
        "id": "aGwcJqOIl5Ct"
      }
    },
    {
      "cell_type": "markdown",
      "source": [
        "\n",
        "\n",
        "*   Hispanic vs. Non-Hispanic\n",
        "\n"
      ],
      "metadata": {
        "id": "NqHSePZDnLQz"
      }
    },
    {
      "cell_type": "code",
      "source": [
        "plt.figure(figsize=(8,6))\n",
        "plt.title('Non-Hispanic (0) vs. Hispanic (1)', fontdict = {'fontsize' : 20} )\n",
        "sns.boxplot(y = clean_mole_df['molecount2008'], x = clean_mole_df['hispanic']);"
      ],
      "metadata": {
        "colab": {
          "base_uri": "https://localhost:8080/",
          "height": 415
        },
        "id": "_rSvZHcNhWwK",
        "outputId": "0f4e2863-59fe-4b2b-bb26-cc6d21bfdd2a"
      },
      "execution_count": null,
      "outputs": [
        {
          "output_type": "display_data",
          "data": {
            "text/plain": [
              "<Figure size 576x432 with 1 Axes>"
            ],
            "image/png": "[encoded data removed]"
          },
          "metadata": {}
        }
      ]
    },
    {
      "cell_type": "markdown",
      "source": [
        "\n",
        "\n",
        "*   Female vs. Male\n",
        "\n"
      ],
      "metadata": {
        "id": "jc4JJLStnn8W"
      }
    },
    {
      "cell_type": "code",
      "source": [
        "plt.figure(figsize=(8,6))\n",
        "plt.title('Female (1) vs. Male (2)', fontdict = {'fontsize' : 20} )\n",
        "sns.boxplot(y = clean_mole_df['molecount2008'], x = clean_mole_df['gender']);"
      ],
      "metadata": {
        "colab": {
          "base_uri": "https://localhost:8080/",
          "height": 415
        },
        "id": "qdPHQVTKg04o",
        "outputId": "2928a157-8f77-4cf8-adba-52327bcca4b4"
      },
      "execution_count": null,
      "outputs": [
        {
          "output_type": "display_data",
          "data": {
            "text/plain": [
              "<Figure size 576x432 with 1 Axes>"
            ],
            "image/png": "[encoded data removed]"
          },
          "metadata": {}
        }
      ]
    },
    {
      "cell_type": "markdown",
      "source": [
        "\n",
        "\n",
        "*   Different Hair Colors\n",
        "\n",
        ">> 1 = Blonde <br> 2 = Red <br>3 = Brown <br>4 = Black\n",
        "\n",
        "\n",
        "\n"
      ],
      "metadata": {
        "id": "l_NI6blKqraT"
      }
    },
    {
      "cell_type": "code",
      "source": [
        "plt.figure(figsize=(8,6))\n",
        "plt.title('Blonde (1) vs. Red (2) vs. Brown (3), vs. Black (4)', fontdict = {'fontsize' : 18} )\n",
        "sns.boxplot(y = clean_mole_df['molecount2008'], x = clean_mole_df['haircolor']);"
      ],
      "metadata": {
        "colab": {
          "base_uri": "https://localhost:8080/",
          "height": 414
        },
        "id": "FJv61kAchF2B",
        "outputId": "33571688-7ed4-41b6-e656-37f3b346b450"
      },
      "execution_count": null,
      "outputs": [
        {
          "output_type": "display_data",
          "data": {
            "text/plain": [
              "<Figure size 576x432 with 1 Axes>"
            ],
            "image/png": "[encoded data removed]"
          },
          "metadata": {}
        }
      ]
    },
    {
      "cell_type": "markdown",
      "source": [
        "To answer our research quesiton, we want to group hair color into two categories - light color and dark color.\n",
        "\n",
        "Here, we will consider blonde and red hair to be light colors, brown and black hair to be dark colors."
      ],
      "metadata": {
        "id": "HOId22WerkPg"
      }
    },
    {
      "cell_type": "code",
      "source": [
        "# create a list of our conditions\n",
        "haircolor_conditions = [(clean_mole_df['haircolor'] == 1) | (clean_mole_df['haircolor'] == 2), (clean_mole_df['haircolor'] == 3) | (clean_mole_df['haircolor'] == 4)]\n",
        "\n",
        "# create a list of the values we want to assign for each condition\n",
        "haircolor_values = ['Light', 'Dark']\n",
        "\n",
        "# create a new column and use np.select to assign values to it using our lists as arguments\n",
        "clean_mole_df['Hair Color'] = np.select(haircolor_conditions, haircolor_values)\n",
        "\n",
        "# display updated DataFrame\n",
        "clean_mole_df.head()"
      ],
      "metadata": {
        "colab": {
          "base_uri": "https://localhost:8080/",
          "height": 206
        },
        "id": "iEjrZOm2FDRb",
        "outputId": "a95a0b51-5aa5-451e-8534-01888331e15b"
      },
      "execution_count": null,
      "outputs": [
        {
          "output_type": "execute_result",
          "data": {
            "text/plain": [
              "   gender  hispanic  molecount2008  eyecolor  baseskincolor  haircolor  \\\n",
              "0       1         1           38.0         2      10.562702        3.0   \n",
              "1       1         0           19.0         1      10.644993        3.0   \n",
              "2       2         0            1.0         1       7.391360        2.0   \n",
              "4       1         0           75.0         3      10.881760        3.0   \n",
              "5       2         0           59.0         3       9.604847        1.0   \n",
              "\n",
              "   number vacs  birth thru 2007 Hair Color  \n",
              "0                             1       Dark  \n",
              "1                             1       Dark  \n",
              "2                             1      Light  \n",
              "4                             3       Dark  \n",
              "5                             2      Light  "
            ],
            "text/html": [
              "\n",
              "  <div id=\"df-e1b1868b-e9cd-498f-919a-71dd59de6b1f\">\n",
              "    <div class=\"colab-df-container\">\n",
              "      <div>\n",
              "<style scoped>\n",
              "    .dataframe tbody tr th:only-of-type {\n",
              "        vertical-align: middle;\n",
              "    }\n",
              "\n",
              "    .dataframe tbody tr th {\n",
              "        vertical-align: top;\n",
              "    }\n",
              "\n",
              "    .dataframe thead th {\n",
              "        text-align: right;\n",
              "    }\n",
              "</style>\n",
              "<table border=\"1\" class=\"dataframe\">\n",
              "  <thead>\n",
              "    <tr style=\"text-align: right;\">\n",
              "      <th></th>\n",
              "      <th>gender</th>\n",
              "      <th>hispanic</th>\n",
              "      <th>molecount2008</th>\n",
              "      <th>eyecolor</th>\n",
              "      <th>baseskincolor</th>\n",
              "      <th>haircolor</th>\n",
              "      <th>number vacs  birth thru 2007</th>\n",
              "      <th>Hair Color</th>\n",
              "    </tr>\n",
              "  </thead>\n",
              "  <tbody>\n",
              "    <tr>\n",
              "      <th>0</th>\n",
              "      <td>1</td>\n",
              "      <td>1</td>\n",
              "      <td>38.0</td>\n",
              "      <td>2</td>\n",
              "      <td>10.562702</td>\n",
              "      <td>3.0</td>\n",
              "      <td>1</td>\n",
              "      <td>Dark</td>\n",
              "    </tr>\n",
              "    <tr>\n",
              "      <th>1</th>\n",
              "      <td>1</td>\n",
              "      <td>0</td>\n",
              "      <td>19.0</td>\n",
              "      <td>1</td>\n",
              "      <td>10.644993</td>\n",
              "      <td>3.0</td>\n",
              "      <td>1</td>\n",
              "      <td>Dark</td>\n",
              "    </tr>\n",
              "    <tr>\n",
              "      <th>2</th>\n",
              "      <td>2</td>\n",
              "      <td>0</td>\n",
              "      <td>1.0</td>\n",
              "      <td>1</td>\n",
              "      <td>7.391360</td>\n",
              "      <td>2.0</td>\n",
              "      <td>1</td>\n",
              "      <td>Light</td>\n",
              "    </tr>\n",
              "    <tr>\n",
              "      <th>4</th>\n",
              "      <td>1</td>\n",
              "      <td>0</td>\n",
              "      <td>75.0</td>\n",
              "      <td>3</td>\n",
              "      <td>10.881760</td>\n",
              "      <td>3.0</td>\n",
              "      <td>3</td>\n",
              "      <td>Dark</td>\n",
              "    </tr>\n",
              "    <tr>\n",
              "      <th>5</th>\n",
              "      <td>2</td>\n",
              "      <td>0</td>\n",
              "      <td>59.0</td>\n",
              "      <td>3</td>\n",
              "      <td>9.604847</td>\n",
              "      <td>1.0</td>\n",
              "      <td>2</td>\n",
              "      <td>Light</td>\n",
              "    </tr>\n",
              "  </tbody>\n",
              "</table>\n",
              "</div>\n",
              "      <button class=\"colab-df-convert\" onclick=\"convertToInteractive('df-e1b1868b-e9cd-498f-919a-71dd59de6b1f')\"\n",
              "              title=\"Convert this dataframe to an interactive table.\"\n",
              "              style=\"display:none;\">\n",
              "        \n",
              "  <svg xmlns=\"http://www.w3.org/2000/svg\" height=\"24px\"viewBox=\"0 0 24 24\"\n",
              "       width=\"24px\">\n",
              "    <path d=\"M0 0h24v24H0V0z\" fill=\"none\"/>\n",
              "    <path d=\"M18.56 5.44l.94 2.06.94-2.06 2.06-.94-2.06-.94-.94-2.06-.94 2.06-2.06.94zm-11 1L8.5 8.5l.94-2.06 2.06-.94-2.06-.94L8.5 2.5l-.94 2.06-2.06.94zm10 10l.94 2.06.94-2.06 2.06-.94-2.06-.94-.94-2.06-.94 2.06-2.06.94z\"/><path d=\"M17.41 7.96l-1.37-1.37c-.4-.4-.92-.59-1.43-.59-.52 0-1.04.2-1.43.59L10.3 9.45l-7.72 7.72c-.78.78-.78 2.05 0 2.83L4 21.41c.39.39.9.59 1.41.59.51 0 1.02-.2 1.41-.59l7.78-7.78 2.81-2.81c.8-.78.8-2.07 0-2.86zM5.41 20L4 18.59l7.72-7.72 1.47 1.35L5.41 20z\"/>\n",
              "  </svg>\n",
              "      </button>\n",
              "      \n",
              "  <style>\n",
              "    .colab-df-container {\n",
              "      display:flex;\n",
              "      flex-wrap:wrap;\n",
              "      gap: 12px;\n",
              "    }\n",
              "\n",
              "    .colab-df-convert {\n",
              "      background-color: #E8F0FE;\n",
              "      border: none;\n",
              "      border-radius: 50%;\n",
              "      cursor: pointer;\n",
              "      display: none;\n",
              "      fill: #1967D2;\n",
              "      height: 32px;\n",
              "      padding: 0 0 0 0;\n",
              "      width: 32px;\n",
              "    }\n",
              "\n",
              "    .colab-df-convert:hover {\n",
              "      background-color: #E2EBFA;\n",
              "      box-shadow: 0px 1px 2px rgba(60, 64, 67, 0.3), 0px 1px 3px 1px rgba(60, 64, 67, 0.15);\n",
              "      fill: #174EA6;\n",
              "    }\n",
              "\n",
              "    [theme=dark] .colab-df-convert {\n",
              "      background-color: #3B4455;\n",
              "      fill: #D2E3FC;\n",
              "    }\n",
              "\n",
              "    [theme=dark] .colab-df-convert:hover {\n",
              "      background-color: #434B5C;\n",
              "      box-shadow: 0px 1px 3px 1px rgba(0, 0, 0, 0.15);\n",
              "      filter: drop-shadow(0px 1px 2px rgba(0, 0, 0, 0.3));\n",
              "      fill: #FFFFFF;\n",
              "    }\n",
              "  </style>\n",
              "\n",
              "      <script>\n",
              "        const buttonEl =\n",
              "          document.querySelector('#df-e1b1868b-e9cd-498f-919a-71dd59de6b1f button.colab-df-convert');\n",
              "        buttonEl.style.display =\n",
              "          google.colab.kernel.accessAllowed ? 'block' : 'none';\n",
              "\n",
              "        async function convertToInteractive(key) {\n",
              "          const element = document.querySelector('#df-e1b1868b-e9cd-498f-919a-71dd59de6b1f');\n",
              "          const dataTable =\n",
              "            await google.colab.kernel.invokeFunction('convertToInteractive',\n",
              "                                                     [key], {});\n",
              "          if (!dataTable) return;\n",
              "\n",
              "          const docLinkHtml = 'Like what you see? Visit the ' +\n",
              "            '<a target=\"_blank\" href=https://colab.research.google.com/notebooks/data_table.ipynb>data table notebook</a>'\n",
              "            + ' to learn more about interactive tables.';\n",
              "          element.innerHTML = '';\n",
              "          dataTable['output_type'] = 'display_data';\n",
              "          await google.colab.output.renderOutput(dataTable, element);\n",
              "          const docLink = document.createElement('div');\n",
              "          docLink.innerHTML = docLinkHtml;\n",
              "          element.appendChild(docLink);\n",
              "        }\n",
              "      </script>\n",
              "    </div>\n",
              "  </div>\n",
              "  "
            ]
          },
          "metadata": {},
          "execution_count": 47
        }
      ]
    },
    {
      "cell_type": "markdown",
      "source": [
        "Display the boxplot to check how the 2008 mole count is distributed across the two categories:"
      ],
      "metadata": {
        "id": "LjEtXvV828s8"
      }
    },
    {
      "cell_type": "code",
      "source": [
        "# display the boxplot to check how the 2008 mole count is distributed across the two categories \n",
        "plt.figure(figsize=(8,6))\n",
        "plt.title('Light Hair vs. Dark Hair', fontdict = {'fontsize' : 20} )\n",
        "sns.boxplot(y = clean_mole_df['molecount2008'], x = clean_mole_df['Hair Color']);"
      ],
      "metadata": {
        "colab": {
          "base_uri": "https://localhost:8080/",
          "height": 415
        },
        "id": "v3TxnzfPIXyv",
        "outputId": "d3452a77-9e50-4d4f-ad2d-c22bbd09d40c"
      },
      "execution_count": null,
      "outputs": [
        {
          "output_type": "display_data",
          "data": {
            "text/plain": [
              "<Figure size 576x432 with 1 Axes>"
            ],
            "image/png": "[encoded data removed]"
          },
          "metadata": {}
        }
      ]
    },
    {
      "cell_type": "markdown",
      "source": [
        " \n",
        "*   Different Eye Colors\n",
        "\n",
        "> 1 = blue, green or combo <br>2 = light/dark brown <br> 3 = hazel\n",
        "\n",
        "\n",
        "\n"
      ],
      "metadata": {
        "id": "9kuKFTj7zwpt"
      }
    },
    {
      "cell_type": "code",
      "source": [
        "plt.figure(figsize=(8,6))\n",
        "plt.title('Blue or Green (1) vs. Brown (2) vs. Hazel (3)', fontdict = {'fontsize' : 20} )\n",
        "sns.boxplot(y = clean_mole_df['molecount2008'], x = clean_mole_df['eyecolor']);"
      ],
      "metadata": {
        "colab": {
          "base_uri": "https://localhost:8080/",
          "height": 415
        },
        "id": "85fsSQLThSBn",
        "outputId": "ffe3c4ea-2dd5-4633-8688-bb13c4335813"
      },
      "execution_count": null,
      "outputs": [
        {
          "output_type": "display_data",
          "data": {
            "text/plain": [
              "<Figure size 576x432 with 1 Axes>"
            ],
            "image/png": "[encoded data removed]"
          },
          "metadata": {}
        }
      ]
    },
    {
      "cell_type": "markdown",
      "source": [
        "To answer our research quesiton, we want to group eye color into two categories - blue or green color and brown or hazel color."
      ],
      "metadata": {
        "id": "taGX_YT20yFI"
      }
    },
    {
      "cell_type": "code",
      "source": [
        "# create a list of our conditions\n",
        "eyecolor_conditions = [(clean_mole_df['eyecolor'] == 1) | (clean_mole_df['eyecolor'] == 2), (clean_mole_df['eyecolor'] == 3)]\n",
        "\n",
        "# create a list of the values we want to assign for each condition\n",
        "eyecolor_values = ['Blue or Green', 'Brown or Hazel']\n",
        "\n",
        "# create a new column and use np.select to assign values to it using our lists as arguments\n",
        "clean_mole_df['Eye Color'] = np.select(eyecolor_conditions, eyecolor_values)\n",
        "\n",
        "# display updated DataFrame\n",
        "clean_mole_df.head()"
      ],
      "metadata": {
        "colab": {
          "base_uri": "https://localhost:8080/",
          "height": 206
        },
        "id": "Pz9oUC_9KLxG",
        "outputId": "e0ee7612-2583-43c1-a985-cf7ac9fa3cd6"
      },
      "execution_count": null,
      "outputs": [
        {
          "output_type": "execute_result",
          "data": {
            "text/plain": [
              "   gender  hispanic  molecount2008  eyecolor  baseskincolor  haircolor  \\\n",
              "0       1         1           38.0         2      10.562702        3.0   \n",
              "1       1         0           19.0         1      10.644993        3.0   \n",
              "2       2         0            1.0         1       7.391360        2.0   \n",
              "4       1         0           75.0         3      10.881760        3.0   \n",
              "5       2         0           59.0         3       9.604847        1.0   \n",
              "\n",
              "   number vacs  birth thru 2007 Hair Color       Eye Color  \n",
              "0                             1       Dark   Blue or Green  \n",
              "1                             1       Dark   Blue or Green  \n",
              "2                             1      Light   Blue or Green  \n",
              "4                             3       Dark  Brown or Hazel  \n",
              "5                             2      Light  Brown or Hazel  "
            ],
            "text/html": [
              "\n",
              "  <div id=\"df-b3d7ee5d-d925-468d-ac52-29fd379f429c\">\n",
              "    <div class=\"colab-df-container\">\n",
              "      <div>\n",
              "<style scoped>\n",
              "    .dataframe tbody tr th:only-of-type {\n",
              "        vertical-align: middle;\n",
              "    }\n",
              "\n",
              "    .dataframe tbody tr th {\n",
              "        vertical-align: top;\n",
              "    }\n",
              "\n",
              "    .dataframe thead th {\n",
              "        text-align: right;\n",
              "    }\n",
              "</style>\n",
              "<table border=\"1\" class=\"dataframe\">\n",
              "  <thead>\n",
              "    <tr style=\"text-align: right;\">\n",
              "      <th></th>\n",
              "      <th>gender</th>\n",
              "      <th>hispanic</th>\n",
              "      <th>molecount2008</th>\n",
              "      <th>eyecolor</th>\n",
              "      <th>baseskincolor</th>\n",
              "      <th>haircolor</th>\n",
              "      <th>number vacs  birth thru 2007</th>\n",
              "      <th>Hair Color</th>\n",
              "      <th>Eye Color</th>\n",
              "    </tr>\n",
              "  </thead>\n",
              "  <tbody>\n",
              "    <tr>\n",
              "      <th>0</th>\n",
              "      <td>1</td>\n",
              "      <td>1</td>\n",
              "      <td>38.0</td>\n",
              "      <td>2</td>\n",
              "      <td>10.562702</td>\n",
              "      <td>3.0</td>\n",
              "      <td>1</td>\n",
              "      <td>Dark</td>\n",
              "      <td>Blue or Green</td>\n",
              "    </tr>\n",
              "    <tr>\n",
              "      <th>1</th>\n",
              "      <td>1</td>\n",
              "      <td>0</td>\n",
              "      <td>19.0</td>\n",
              "      <td>1</td>\n",
              "      <td>10.644993</td>\n",
              "      <td>3.0</td>\n",
              "      <td>1</td>\n",
              "      <td>Dark</td>\n",
              "      <td>Blue or Green</td>\n",
              "    </tr>\n",
              "    <tr>\n",
              "      <th>2</th>\n",
              "      <td>2</td>\n",
              "      <td>0</td>\n",
              "      <td>1.0</td>\n",
              "      <td>1</td>\n",
              "      <td>7.391360</td>\n",
              "      <td>2.0</td>\n",
              "      <td>1</td>\n",
              "      <td>Light</td>\n",
              "      <td>Blue or Green</td>\n",
              "    </tr>\n",
              "    <tr>\n",
              "      <th>4</th>\n",
              "      <td>1</td>\n",
              "      <td>0</td>\n",
              "      <td>75.0</td>\n",
              "      <td>3</td>\n",
              "      <td>10.881760</td>\n",
              "      <td>3.0</td>\n",
              "      <td>3</td>\n",
              "      <td>Dark</td>\n",
              "      <td>Brown or Hazel</td>\n",
              "    </tr>\n",
              "    <tr>\n",
              "      <th>5</th>\n",
              "      <td>2</td>\n",
              "      <td>0</td>\n",
              "      <td>59.0</td>\n",
              "      <td>3</td>\n",
              "      <td>9.604847</td>\n",
              "      <td>1.0</td>\n",
              "      <td>2</td>\n",
              "      <td>Light</td>\n",
              "      <td>Brown or Hazel</td>\n",
              "    </tr>\n",
              "  </tbody>\n",
              "</table>\n",
              "</div>\n",
              "      <button class=\"colab-df-convert\" onclick=\"convertToInteractive('df-b3d7ee5d-d925-468d-ac52-29fd379f429c')\"\n",
              "              title=\"Convert this dataframe to an interactive table.\"\n",
              "              style=\"display:none;\">\n",
              "        \n",
              "  <svg xmlns=\"http://www.w3.org/2000/svg\" height=\"24px\"viewBox=\"0 0 24 24\"\n",
              "       width=\"24px\">\n",
              "    <path d=\"M0 0h24v24H0V0z\" fill=\"none\"/>\n",
              "    <path d=\"M18.56 5.44l.94 2.06.94-2.06 2.06-.94-2.06-.94-.94-2.06-.94 2.06-2.06.94zm-11 1L8.5 8.5l.94-2.06 2.06-.94-2.06-.94L8.5 2.5l-.94 2.06-2.06.94zm10 10l.94 2.06.94-2.06 2.06-.94-2.06-.94-.94-2.06-.94 2.06-2.06.94z\"/><path d=\"M17.41 7.96l-1.37-1.37c-.4-.4-.92-.59-1.43-.59-.52 0-1.04.2-1.43.59L10.3 9.45l-7.72 7.72c-.78.78-.78 2.05 0 2.83L4 21.41c.39.39.9.59 1.41.59.51 0 1.02-.2 1.41-.59l7.78-7.78 2.81-2.81c.8-.78.8-2.07 0-2.86zM5.41 20L4 18.59l7.72-7.72 1.47 1.35L5.41 20z\"/>\n",
              "  </svg>\n",
              "      </button>\n",
              "      \n",
              "  <style>\n",
              "    .colab-df-container {\n",
              "      display:flex;\n",
              "      flex-wrap:wrap;\n",
              "      gap: 12px;\n",
              "    }\n",
              "\n",
              "    .colab-df-convert {\n",
              "      background-color: #E8F0FE;\n",
              "      border: none;\n",
              "      border-radius: 50%;\n",
              "      cursor: pointer;\n",
              "      display: none;\n",
              "      fill: #1967D2;\n",
              "      height: 32px;\n",
              "      padding: 0 0 0 0;\n",
              "      width: 32px;\n",
              "    }\n",
              "\n",
              "    .colab-df-convert:hover {\n",
              "      background-color: #E2EBFA;\n",
              "      box-shadow: 0px 1px 2px rgba(60, 64, 67, 0.3), 0px 1px 3px 1px rgba(60, 64, 67, 0.15);\n",
              "      fill: #174EA6;\n",
              "    }\n",
              "\n",
              "    [theme=dark] .colab-df-convert {\n",
              "      background-color: #3B4455;\n",
              "      fill: #D2E3FC;\n",
              "    }\n",
              "\n",
              "    [theme=dark] .colab-df-convert:hover {\n",
              "      background-color: #434B5C;\n",
              "      box-shadow: 0px 1px 3px 1px rgba(0, 0, 0, 0.15);\n",
              "      filter: drop-shadow(0px 1px 2px rgba(0, 0, 0, 0.3));\n",
              "      fill: #FFFFFF;\n",
              "    }\n",
              "  </style>\n",
              "\n",
              "      <script>\n",
              "        const buttonEl =\n",
              "          document.querySelector('#df-b3d7ee5d-d925-468d-ac52-29fd379f429c button.colab-df-convert');\n",
              "        buttonEl.style.display =\n",
              "          google.colab.kernel.accessAllowed ? 'block' : 'none';\n",
              "\n",
              "        async function convertToInteractive(key) {\n",
              "          const element = document.querySelector('#df-b3d7ee5d-d925-468d-ac52-29fd379f429c');\n",
              "          const dataTable =\n",
              "            await google.colab.kernel.invokeFunction('convertToInteractive',\n",
              "                                                     [key], {});\n",
              "          if (!dataTable) return;\n",
              "\n",
              "          const docLinkHtml = 'Like what you see? Visit the ' +\n",
              "            '<a target=\"_blank\" href=https://colab.research.google.com/notebooks/data_table.ipynb>data table notebook</a>'\n",
              "            + ' to learn more about interactive tables.';\n",
              "          element.innerHTML = '';\n",
              "          dataTable['output_type'] = 'display_data';\n",
              "          await google.colab.output.renderOutput(dataTable, element);\n",
              "          const docLink = document.createElement('div');\n",
              "          docLink.innerHTML = docLinkHtml;\n",
              "          element.appendChild(docLink);\n",
              "        }\n",
              "      </script>\n",
              "    </div>\n",
              "  </div>\n",
              "  "
            ]
          },
          "metadata": {},
          "execution_count": 50
        }
      ]
    },
    {
      "cell_type": "markdown",
      "source": [
        "Display the boxplot to check how the 2008 mole count is distributed across the two categories:"
      ],
      "metadata": {
        "id": "OGUSt7iC2gMv"
      }
    },
    {
      "cell_type": "code",
      "source": [
        "plt.figure(figsize=(8,6))\n",
        "plt.title('Blue or Green Eye vs. Brown or Hazel Eye', fontdict = {'fontsize' : 20} )\n",
        "sns.boxplot(y = clean_mole_df['molecount2008'], x = clean_mole_df['Eye Color']);"
      ],
      "metadata": {
        "colab": {
          "base_uri": "https://localhost:8080/",
          "height": 415
        },
        "id": "vLtUKs_fKfd8",
        "outputId": "81479f1c-a291-41c4-c6db-164bbf740e32"
      },
      "execution_count": null,
      "outputs": [
        {
          "output_type": "display_data",
          "data": {
            "text/plain": [
              "<Figure size 576x432 with 1 Axes>"
            ],
            "image/png": "[encoded data removed]"
          },
          "metadata": {}
        }
      ]
    },
    {
      "cell_type": "markdown",
      "source": [
        "\n",
        "\n",
        "*   Base Skin Color\n",
        "> The base skin color (baseskincolor) column in our dataset is continuous numeric data. Let's take a look at how it is distributed.\n",
        "\n",
        "\n",
        "\n"
      ],
      "metadata": {
        "id": "MiCDxYEL4n5z"
      }
    },
    {
      "cell_type": "code",
      "source": [
        "print(clean_mole_df['baseskincolor'].describe())\n",
        "plt.figure(figsize=(8,6))\n",
        "plt.title('Base Skin Color', fontdict = {'fontsize' : 20} )\n",
        "ax = sns.histplot(clean_mole_df['baseskincolor'], bins = 15, kde = True)\n",
        "sns.despine()"
      ],
      "metadata": {
        "colab": {
          "base_uri": "https://localhost:8080/",
          "height": 576
        },
        "id": "uOlqWCMo4zrw",
        "outputId": "4aa7e6f5-f46f-491d-a310-469b222cb512"
      },
      "execution_count": null,
      "outputs": [
        {
          "output_type": "stream",
          "name": "stdout",
          "text": [
            "count    414.000000\n",
            "mean      10.712976\n",
            "std        1.644759\n",
            "min        5.828434\n",
            "25%        9.469548\n",
            "50%       10.839646\n",
            "75%       12.039863\n",
            "max       14.033928\n",
            "Name: baseskincolor, dtype: float64\n"
          ]
        },
        {
          "output_type": "display_data",
          "data": {
            "text/plain": [
              "<Figure size 576x432 with 1 Axes>"
            ],
            "image/png": "[encoded data removed]"
          },
          "metadata": {}
        }
      ]
    },
    {
      "cell_type": "markdown",
      "source": [
        "To answer our research quesiton, we want to divide the skin color into two categories - lighter color and darker color.\n",
        "\n",
        "We will use the mean as a divider, base skin color under the mean is considered to be lighter color, and base skin color above the mean is considered to be darker color.\n"
      ],
      "metadata": {
        "id": "f1lPELkg5U_J"
      }
    },
    {
      "cell_type": "code",
      "source": [
        "skincolor_conditions = [(clean_mole_df['baseskincolor'] < clean_mole_df['baseskincolor'].mean()), (clean_mole_df['baseskincolor'] >= clean_mole_df['baseskincolor'].mean())]\n",
        "\n",
        "# create a list of the values we want to assign for each condition\n",
        "skincolor_values = ['Lighter', 'Darker']\n",
        "\n",
        "# create a new column and use np.select to assign values to it using our lists as arguments\n",
        "clean_mole_df['Base Skin Color'] = np.select(skincolor_conditions, skincolor_values)\n",
        "\n",
        "# display updated DataFrame\n",
        "clean_mole_df.head()"
      ],
      "metadata": {
        "colab": {
          "base_uri": "https://localhost:8080/",
          "height": 206
        },
        "id": "JQJ_a8FOK-Zl",
        "outputId": "17c3ecea-1a05-4034-bc87-3e3908a95d75"
      },
      "execution_count": null,
      "outputs": [
        {
          "output_type": "execute_result",
          "data": {
            "text/plain": [
              "   gender  hispanic  molecount2008  eyecolor  baseskincolor  haircolor  \\\n",
              "0       1         1           38.0         2      10.562702        3.0   \n",
              "1       1         0           19.0         1      10.644993        3.0   \n",
              "2       2         0            1.0         1       7.391360        2.0   \n",
              "4       1         0           75.0         3      10.881760        3.0   \n",
              "5       2         0           59.0         3       9.604847        1.0   \n",
              "\n",
              "   number vacs  birth thru 2007 Hair Color       Eye Color Base Skin Color  \n",
              "0                             1       Dark   Blue or Green         Lighter  \n",
              "1                             1       Dark   Blue or Green         Lighter  \n",
              "2                             1      Light   Blue or Green         Lighter  \n",
              "4                             3       Dark  Brown or Hazel          Darker  \n",
              "5                             2      Light  Brown or Hazel         Lighter  "
            ],
            "text/html": [
              "\n",
              "  <div id=\"df-77ab41e5-6ef9-46ed-8da3-1f21824644f4\">\n",
              "    <div class=\"colab-df-container\">\n",
              "      <div>\n",
              "<style scoped>\n",
              "    .dataframe tbody tr th:only-of-type {\n",
              "        vertical-align: middle;\n",
              "    }\n",
              "\n",
              "    .dataframe tbody tr th {\n",
              "        vertical-align: top;\n",
              "    }\n",
              "\n",
              "    .dataframe thead th {\n",
              "        text-align: right;\n",
              "    }\n",
              "</style>\n",
              "<table border=\"1\" class=\"dataframe\">\n",
              "  <thead>\n",
              "    <tr style=\"text-align: right;\">\n",
              "      <th></th>\n",
              "      <th>gender</th>\n",
              "      <th>hispanic</th>\n",
              "      <th>molecount2008</th>\n",
              "      <th>eyecolor</th>\n",
              "      <th>baseskincolor</th>\n",
              "      <th>haircolor</th>\n",
              "      <th>number vacs  birth thru 2007</th>\n",
              "      <th>Hair Color</th>\n",
              "      <th>Eye Color</th>\n",
              "      <th>Base Skin Color</th>\n",
              "    </tr>\n",
              "  </thead>\n",
              "  <tbody>\n",
              "    <tr>\n",
              "      <th>0</th>\n",
              "      <td>1</td>\n",
              "      <td>1</td>\n",
              "      <td>38.0</td>\n",
              "      <td>2</td>\n",
              "      <td>10.562702</td>\n",
              "      <td>3.0</td>\n",
              "      <td>1</td>\n",
              "      <td>Dark</td>\n",
              "      <td>Blue or Green</td>\n",
              "      <td>Lighter</td>\n",
              "    </tr>\n",
              "    <tr>\n",
              "      <th>1</th>\n",
              "      <td>1</td>\n",
              "      <td>0</td>\n",
              "      <td>19.0</td>\n",
              "      <td>1</td>\n",
              "      <td>10.644993</td>\n",
              "      <td>3.0</td>\n",
              "      <td>1</td>\n",
              "      <td>Dark</td>\n",
              "      <td>Blue or Green</td>\n",
              "      <td>Lighter</td>\n",
              "    </tr>\n",
              "    <tr>\n",
              "      <th>2</th>\n",
              "      <td>2</td>\n",
              "      <td>0</td>\n",
              "      <td>1.0</td>\n",
              "      <td>1</td>\n",
              "      <td>7.391360</td>\n",
              "      <td>2.0</td>\n",
              "      <td>1</td>\n",
              "      <td>Light</td>\n",
              "      <td>Blue or Green</td>\n",
              "      <td>Lighter</td>\n",
              "    </tr>\n",
              "    <tr>\n",
              "      <th>4</th>\n",
              "      <td>1</td>\n",
              "      <td>0</td>\n",
              "      <td>75.0</td>\n",
              "      <td>3</td>\n",
              "      <td>10.881760</td>\n",
              "      <td>3.0</td>\n",
              "      <td>3</td>\n",
              "      <td>Dark</td>\n",
              "      <td>Brown or Hazel</td>\n",
              "      <td>Darker</td>\n",
              "    </tr>\n",
              "    <tr>\n",
              "      <th>5</th>\n",
              "      <td>2</td>\n",
              "      <td>0</td>\n",
              "      <td>59.0</td>\n",
              "      <td>3</td>\n",
              "      <td>9.604847</td>\n",
              "      <td>1.0</td>\n",
              "      <td>2</td>\n",
              "      <td>Light</td>\n",
              "      <td>Brown or Hazel</td>\n",
              "      <td>Lighter</td>\n",
              "    </tr>\n",
              "  </tbody>\n",
              "</table>\n",
              "</div>\n",
              "      <button class=\"colab-df-convert\" onclick=\"convertToInteractive('df-77ab41e5-6ef9-46ed-8da3-1f21824644f4')\"\n",
              "              title=\"Convert this dataframe to an interactive table.\"\n",
              "              style=\"display:none;\">\n",
              "        \n",
              "  <svg xmlns=\"http://www.w3.org/2000/svg\" height=\"24px\"viewBox=\"0 0 24 24\"\n",
              "       width=\"24px\">\n",
              "    <path d=\"M0 0h24v24H0V0z\" fill=\"none\"/>\n",
              "    <path d=\"M18.56 5.44l.94 2.06.94-2.06 2.06-.94-2.06-.94-.94-2.06-.94 2.06-2.06.94zm-11 1L8.5 8.5l.94-2.06 2.06-.94-2.06-.94L8.5 2.5l-.94 2.06-2.06.94zm10 10l.94 2.06.94-2.06 2.06-.94-2.06-.94-.94-2.06-.94 2.06-2.06.94z\"/><path d=\"M17.41 7.96l-1.37-1.37c-.4-.4-.92-.59-1.43-.59-.52 0-1.04.2-1.43.59L10.3 9.45l-7.72 7.72c-.78.78-.78 2.05 0 2.83L4 21.41c.39.39.9.59 1.41.59.51 0 1.02-.2 1.41-.59l7.78-7.78 2.81-2.81c.8-.78.8-2.07 0-2.86zM5.41 20L4 18.59l7.72-7.72 1.47 1.35L5.41 20z\"/>\n",
              "  </svg>\n",
              "      </button>\n",
              "      \n",
              "  <style>\n",
              "    .colab-df-container {\n",
              "      display:flex;\n",
              "      flex-wrap:wrap;\n",
              "      gap: 12px;\n",
              "    }\n",
              "\n",
              "    .colab-df-convert {\n",
              "      background-color: #E8F0FE;\n",
              "      border: none;\n",
              "      border-radius: 50%;\n",
              "      cursor: pointer;\n",
              "      display: none;\n",
              "      fill: #1967D2;\n",
              "      height: 32px;\n",
              "      padding: 0 0 0 0;\n",
              "      width: 32px;\n",
              "    }\n",
              "\n",
              "    .colab-df-convert:hover {\n",
              "      background-color: #E2EBFA;\n",
              "      box-shadow: 0px 1px 2px rgba(60, 64, 67, 0.3), 0px 1px 3px 1px rgba(60, 64, 67, 0.15);\n",
              "      fill: #174EA6;\n",
              "    }\n",
              "\n",
              "    [theme=dark] .colab-df-convert {\n",
              "      background-color: #3B4455;\n",
              "      fill: #D2E3FC;\n",
              "    }\n",
              "\n",
              "    [theme=dark] .colab-df-convert:hover {\n",
              "      background-color: #434B5C;\n",
              "      box-shadow: 0px 1px 3px 1px rgba(0, 0, 0, 0.15);\n",
              "      filter: drop-shadow(0px 1px 2px rgba(0, 0, 0, 0.3));\n",
              "      fill: #FFFFFF;\n",
              "    }\n",
              "  </style>\n",
              "\n",
              "      <script>\n",
              "        const buttonEl =\n",
              "          document.querySelector('#df-77ab41e5-6ef9-46ed-8da3-1f21824644f4 button.colab-df-convert');\n",
              "        buttonEl.style.display =\n",
              "          google.colab.kernel.accessAllowed ? 'block' : 'none';\n",
              "\n",
              "        async function convertToInteractive(key) {\n",
              "          const element = document.querySelector('#df-77ab41e5-6ef9-46ed-8da3-1f21824644f4');\n",
              "          const dataTable =\n",
              "            await google.colab.kernel.invokeFunction('convertToInteractive',\n",
              "                                                     [key], {});\n",
              "          if (!dataTable) return;\n",
              "\n",
              "          const docLinkHtml = 'Like what you see? Visit the ' +\n",
              "            '<a target=\"_blank\" href=https://colab.research.google.com/notebooks/data_table.ipynb>data table notebook</a>'\n",
              "            + ' to learn more about interactive tables.';\n",
              "          element.innerHTML = '';\n",
              "          dataTable['output_type'] = 'display_data';\n",
              "          await google.colab.output.renderOutput(dataTable, element);\n",
              "          const docLink = document.createElement('div');\n",
              "          docLink.innerHTML = docLinkHtml;\n",
              "          element.appendChild(docLink);\n",
              "        }\n",
              "      </script>\n",
              "    </div>\n",
              "  </div>\n",
              "  "
            ]
          },
          "metadata": {},
          "execution_count": 53
        }
      ]
    },
    {
      "cell_type": "markdown",
      "source": [
        "Display the boxplot to check how the 2008 mole count is distributed across the two categories:"
      ],
      "metadata": {
        "id": "Befe4jwM7KZb"
      }
    },
    {
      "cell_type": "code",
      "source": [
        "plt.figure(figsize=(8,6))\n",
        "plt.title('Lighter Base Skin Color vs. Darker Base Skin Color', fontdict = {'fontsize' : 20} )\n",
        "sns.boxplot(y = clean_mole_df['molecount2008'], x = clean_mole_df['Base Skin Color']);"
      ],
      "metadata": {
        "colab": {
          "base_uri": "https://localhost:8080/",
          "height": 415
        },
        "id": "MsM-OvekMO2x",
        "outputId": "88fe1903-39db-4458-f1db-1017da4126db"
      },
      "execution_count": null,
      "outputs": [
        {
          "output_type": "display_data",
          "data": {
            "text/plain": [
              "<Figure size 576x432 with 1 Axes>"
            ],
            "image/png": "[encoded data removed]"
          },
          "metadata": {}
        }
      ]
    },
    {
      "cell_type": "markdown",
      "source": [
        "Last, let's take a look at the correlation of our data:"
      ],
      "metadata": {
        "id": "S2J0HwCS7NuZ"
      }
    },
    {
      "cell_type": "code",
      "source": [
        "# set up the plot size\n",
        "plt.figure(figsize = (10,6))\n",
        "\n",
        "# plot the correlation heatmap\n",
        "correlation = sns.heatmap(clean_mole_df.corr(), cmap='Blues', annot=True)\n",
        "\n",
        "# rotating the labels for the ease of reading \n",
        "correlation.set_xticklabels(correlation.get_xticklabels(),rotation=45)"
      ],
      "metadata": {
        "colab": {
          "base_uri": "https://localhost:8080/",
          "height": 618
        },
        "id": "Oq5b-tDUcJqt",
        "outputId": "a69c16bd-2a0e-474a-ffb6-2e709eed0cb9"
      },
      "execution_count": null,
      "outputs": [
        {
          "output_type": "execute_result",
          "data": {
            "text/plain": [
              "[Text(0.5, 0, 'gender'),\n",
              " Text(1.5, 0, 'hispanic'),\n",
              " Text(2.5, 0, 'molecount2008'),\n",
              " Text(3.5, 0, 'eyecolor'),\n",
              " Text(4.5, 0, 'baseskincolor'),\n",
              " Text(5.5, 0, 'haircolor'),\n",
              " Text(6.5, 0, 'number vacs  birth thru 2007')]"
            ]
          },
          "metadata": {},
          "execution_count": 55
        },
        {
          "output_type": "display_data",
          "data": {
            "text/plain": [
              "<Figure size 720x432 with 2 Axes>"
            ],
            "image/png": "[encoded data removed]"
          },
          "metadata": {}
        }
      ]
    },
    {
      "cell_type": "markdown",
      "source": [
        "As can be seen from the correlation heat map above, we don't see strong correlations between any two variables in our data. To answer our research question, we need to run Pearson's Correlation Coefficient tests to see if the base skin color and the number of vacations taken have a relationship with the mole count."
      ],
      "metadata": {
        "id": "BcLLJ2a2XLkH"
      }
    },
    {
      "cell_type": "markdown",
      "source": [
        "# Analysis of the Research Questions\n",
        "\n"
      ],
      "metadata": {
        "id": "PDRxC2p3D12W"
      }
    },
    {
      "cell_type": "markdown",
      "source": [
        "## Testing the Hypotheses for Question 1\n",
        "**Is there a difference between the mole count for different gender, different ethnicity, different hair color, and different eye color?**\n"
      ],
      "metadata": {
        "id": "jBIUZzpmoMBY"
      }
    },
    {
      "cell_type": "markdown",
      "source": [
        "### Creating bins"
      ],
      "metadata": {
        "id": "MS7GijpfGOTJ"
      }
    },
    {
      "cell_type": "markdown",
      "source": [
        "First we will create bins for different demographic and genetic groups. Then we will check the number of records in each bin to see if there's enough data to run the t-test."
      ],
      "metadata": {
        "id": "W99NBgF8GoTP"
      }
    },
    {
      "cell_type": "code",
      "source": [
        "# gender\n",
        "female = clean_mole_df.loc[clean_mole_df['gender'] == 1]\n",
        "male = clean_mole_df.loc[clean_mole_df['gender'] == 2]\n",
        "\n",
        "# ethnicity \n",
        "# 1 = Hispanic \n",
        "# 2 = non-Hispanic\n",
        "nonhispanic = clean_mole_df.loc[clean_mole_df['hispanic'] == 0]\n",
        "hispanic = clean_mole_df.loc[clean_mole_df['hispanic'] == 1]\n",
        "\n",
        "# hair color\n",
        "# 1 = blonde\n",
        "# 2 = red\n",
        "# 3 = brown\n",
        "# 4 = black\n",
        "lighthair = clean_mole_df.loc[((clean_mole_df['haircolor'] == 1) | (clean_mole_df['haircolor'] == 2))]                                       \n",
        "darkhair = clean_mole_df.loc[((clean_mole_df['haircolor'] == 3) | (clean_mole_df['haircolor'] == 4))]       \n",
        "\n",
        "# eye color\n",
        "# 1 = blue, green or combom\n",
        "# 2 = light/dark brown\n",
        "# 3 = hazel \n",
        "bluegreeneye = clean_mole_df.loc[clean_mole_df['eyecolor'] == 1] \n",
        "brownhazeleye = clean_mole_df.loc[((clean_mole_df['eyecolor'] == 2) | (clean_mole_df['eyecolor'] == 3))]    \n",
        "\n",
        "# base skin color\n",
        "# Skin color based on a continuous score, higher is darker\n",
        "lighterskin = clean_mole_df[clean_mole_df['baseskincolor']< clean_mole_df['baseskincolor'].mean()]\n",
        "darkerskin = clean_mole_df[clean_mole_df['baseskincolor'] >= clean_mole_df['baseskincolor'].mean()]\n",
        "\n",
        "\n",
        "# checking the number of records\n",
        "female_n = female['gender'].count()\n",
        "male_n = female['gender'].count()\n",
        "nonhispanic_n = nonhispanic['gender'].count()\n",
        "hispanic_n = hispanic['gender'].count()\n",
        "lighthair_n = lighthair['gender'].count()\n",
        "darkhair_n = darkhair['gender'].count()\n",
        "bluegreeneye_n = bluegreeneye['gender'].count()\n",
        "brownhazeleye_n = brownhazeleye['gender'].count()\n",
        "lighterskin_n = lighterskin['gender'].count()\n",
        "darkerskin_n = darkerskin['gender'].count()\n",
        "\n",
        "print('Number of records of female = {}.'.format(female_n))\n",
        "print('Number of records of male = {}.'.format(male_n))\n",
        "print('Number of records of non-Hispanic = {}.'.format(nonhispanic_n))\n",
        "print('Number of records of Hispanic = {}.'.format(hispanic_n))\n",
        "print('Number of records of light hair = {}.'.format(lighthair_n))\n",
        "print('Number of records of dark hair = {}.'.format(darkhair_n))\n",
        "print('Number of records of blue or green eye color = {}.'.format(bluegreeneye_n))\n",
        "print('Number of records of brown or hazel eye color = {}.'.format(brownhazeleye_n))\n",
        "print('Number of records of lighter skin = {}.'.format(lighterskin_n))\n",
        "print('Number of records of darker skin = {}.'.format(darkerskin_n))\n",
        "\n"
      ],
      "metadata": {
        "colab": {
          "base_uri": "https://localhost:8080/"
        },
        "id": "1I6GQiZ2jDmi",
        "outputId": "f4be14ac-2f6d-4416-e3a8-dd9e01ba409b"
      },
      "execution_count": null,
      "outputs": [
        {
          "output_type": "stream",
          "name": "stdout",
          "text": [
            "Number of records of female = 224.\n",
            "Number of records of male = 224.\n",
            "Number of records of non-Hispanic = 364.\n",
            "Number of records of Hispanic = 50.\n",
            "Number of records of light hair = 224.\n",
            "Number of records of dark hair = 190.\n",
            "Number of records of blue or green eye color = 188.\n",
            "Number of records of brown or hazel eye color = 226.\n",
            "Number of records of lighter skin = 198.\n",
            "Number of records of darker skin = 216.\n"
          ]
        }
      ]
    },
    {
      "cell_type": "markdown",
      "source": [
        "All the bins has more than 30 records, we can do t-tests."
      ],
      "metadata": {
        "id": "xjQE_VxXNnwa"
      }
    },
    {
      "cell_type": "markdown",
      "source": [
        "### Testing"
      ],
      "metadata": {
        "id": "0OSEgDSvsE7y"
      }
    },
    {
      "cell_type": "markdown",
      "source": [
        "***Testing Hypothesis 1: Male vs. Female***\n",
        "> $H_0$: There is no statistically significant difference in the mean of the mole count between male and female\n",
        "\n",
        "> $H_a$: There is a statistically significant difference in the mean of the mole count between male and female"
      ],
      "metadata": {
        "id": "3-2kBJnqBrK5"
      }
    },
    {
      "cell_type": "code",
      "source": [
        "# run the t-test\n",
        "stats.ttest_ind(male['molecount2008'], female['molecount2008'])"
      ],
      "metadata": {
        "colab": {
          "base_uri": "https://localhost:8080/"
        },
        "id": "Nr2mA430jtTu",
        "outputId": "c9be4fde-3bd3-4b37-95e5-227871b3f0c8"
      },
      "execution_count": null,
      "outputs": [
        {
          "output_type": "execute_result",
          "data": {
            "text/plain": [
              "Ttest_indResult(statistic=1.4893852404803385, pvalue=0.13715103022597452)"
            ]
          },
          "metadata": {},
          "execution_count": 57
        }
      ]
    },
    {
      "cell_type": "markdown",
      "source": [
        "The test result shows a p-value of 0.13715103022597452 which is greater than the alpha of 0.05. Therefore, we **fail to reject the null**.\n",
        "\n",
        "It means with a 95% confidence there **NO statistically significant difference** in the mean of the mole count between male and female. \n",
        "\n",
        "This is telling us that is very unlikely to observe a difference in the number of moles between boys and girls."
      ],
      "metadata": {
        "id": "xO2XqIVEPwr7"
      }
    },
    {
      "cell_type": "markdown",
      "source": [
        "**Testing Hypothesis 2: Hispanic vs. Non-Hispanic**\n",
        "> $H_0$:  There is no statistically significant difference in the mean of the mole count between Hispanic and Non-Hispanic groups\n",
        "\n",
        "> $H_a$: There is a statistically significant difference in the mean of the mole count between Hispanic and Non-Hispanic groups\n",
        "\n"
      ],
      "metadata": {
        "id": "D6bKVE_SBy6N"
      }
    },
    {
      "cell_type": "code",
      "source": [
        "# run the t-test\n",
        "stats.ttest_ind(hispanic['molecount2008'], nonhispanic['molecount2008'])"
      ],
      "metadata": {
        "colab": {
          "base_uri": "https://localhost:8080/"
        },
        "id": "mYAPh5wyktbq",
        "outputId": "e9dbc60e-c8cb-4f9d-8091-07531d01fe6a"
      },
      "execution_count": null,
      "outputs": [
        {
          "output_type": "execute_result",
          "data": {
            "text/plain": [
              "Ttest_indResult(statistic=-4.463934787231466, pvalue=1.0401046671474124e-05)"
            ]
          },
          "metadata": {},
          "execution_count": 58
        }
      ]
    },
    {
      "cell_type": "markdown",
      "source": [
        "The test result shows a p-value of 1.0401046671474124e-05 which is less than the alpha of 0.05. Therefore, we can **reject the null**.\n",
        "\n",
        "It means with a 95% confidence there **is a statistically significant difference** in the mean of the mole count between Hispanic and Non-Hispanic groups. \n",
        "\n",
        "This is telling us that it is very likely to observe a difference in the number of moles between Hispanic and Non-Hispanic children. Non-Hispanic children are very likely to have more moles."
      ],
      "metadata": {
        "id": "_zAxK-gktxy-"
      }
    },
    {
      "cell_type": "markdown",
      "source": [
        "**Testing Hypothesis 3: Lighthair vs. Darkhair**\n",
        "> $H_0$: There is no statistically significant difference in the mean of the mole count between light hair color and dark hair color groups\n",
        "\n",
        "> $H_a$: There is a statistically significant difference in the mean of the mole count between light hair color and dark hair color groups"
      ],
      "metadata": {
        "id": "5YZfuLaLB1Ry"
      }
    },
    {
      "cell_type": "code",
      "source": [
        "# run the t-test\n",
        "stats.ttest_ind(lighthair['molecount2008'], darkhair['molecount2008'])"
      ],
      "metadata": {
        "colab": {
          "base_uri": "https://localhost:8080/"
        },
        "id": "L2nF4MXNmaW4",
        "outputId": "28c49f8b-645c-46e8-82d9-66f7d276f138"
      },
      "execution_count": null,
      "outputs": [
        {
          "output_type": "execute_result",
          "data": {
            "text/plain": [
              "Ttest_indResult(statistic=1.7818917822431743, pvalue=0.07550330806948502)"
            ]
          },
          "metadata": {},
          "execution_count": 59
        }
      ]
    },
    {
      "cell_type": "markdown",
      "source": [
        "The test result shows a p-value of 0.07550330806948502 which is greater than the alpha of 0.05. Therefore, we **fail to reject the null**.\n",
        "\n",
        "It means with a 95% confidence there **NO statistically significant difference** in the mean of the mole count between light hair and dark hair groups. \n",
        "\n",
        "This is telling us that it is very unlikely to observe a difference in the number of moles between children with light hair and children with dark hair."
      ],
      "metadata": {
        "id": "szwHLz4nufal"
      }
    },
    {
      "cell_type": "markdown",
      "source": [
        "**Testing Hypothesis 4: Blue or Green Eye vs. Brown or Hazel Eye**\n",
        "> $H_0$: There is no statistically significant difference in the mean of the mole count between blue or green eye color and brown or hazel eye color groups\n",
        "\n",
        "> $H_a$: There is a statistically significant difference in the mean of the mole count between blue or green eye color and brown or hazel eye color groups"
      ],
      "metadata": {
        "id": "Iozbk8b9B5LP"
      }
    },
    {
      "cell_type": "code",
      "source": [
        "# run the t-test\n",
        "stats.ttest_ind(bluegreeneye['molecount2008'], brownhazeleye['molecount2008'])"
      ],
      "metadata": {
        "colab": {
          "base_uri": "https://localhost:8080/"
        },
        "id": "aF98lxELrM-R",
        "outputId": "2a74b57e-6abf-4bf6-ae38-55afd7efdf8a"
      },
      "execution_count": null,
      "outputs": [
        {
          "output_type": "execute_result",
          "data": {
            "text/plain": [
              "Ttest_indResult(statistic=2.971955539096446, pvalue=0.003132578990205146)"
            ]
          },
          "metadata": {},
          "execution_count": 60
        }
      ]
    },
    {
      "cell_type": "markdown",
      "source": [
        "The test result shows a p-value of 0.003132578990205146 which is less than the alpha of 0.05. Therefore, we can **reject the null**.\n",
        "\n",
        "It means with a 95% confidence there **is a statistically significant difference** in the mean of the mole count between blue or green eye and brown or hazel eye groups.\n",
        "\n",
        "This is telling us that it is very likely to observe a difference in the number of moles between children with blue or green eyes and children with brown or hazel eyes. Children with blue or green eyes are very likely to have more moles."
      ],
      "metadata": {
        "id": "nVjFCI0hw3Ce"
      }
    },
    {
      "cell_type": "markdown",
      "source": [
        "**Testing Hypothesis 5: Lighter Base Skin vs. Darker Base Skin**\n",
        "> $H_0$: There is no statistically significant difference in the mean of the mole count between lighter base skin color and darker base skin color groups\n",
        "\n",
        "> $H_a$: There is a statistically significant difference in the mean of the mole count between lighter base skin color and darker base skin color groups"
      ],
      "metadata": {
        "id": "s7ffI3ifB-3X"
      }
    },
    {
      "cell_type": "code",
      "source": [
        "# run the t-test\n",
        "stats.ttest_ind(lighterskin['molecount2008'], darkerskin['molecount2008'])"
      ],
      "metadata": {
        "colab": {
          "base_uri": "https://localhost:8080/"
        },
        "id": "BPjhzp_ZQYuJ",
        "outputId": "cd2470ed-d451-4225-cd38-0c4e5c91505f"
      },
      "execution_count": null,
      "outputs": [
        {
          "output_type": "execute_result",
          "data": {
            "text/plain": [
              "Ttest_indResult(statistic=3.251066974002614, pvalue=0.0012442142500233677)"
            ]
          },
          "metadata": {},
          "execution_count": 61
        }
      ]
    },
    {
      "cell_type": "markdown",
      "source": [
        "The test result shows a p-value of 0.0012442142500233677 which is less than the alpha of 0.05. Therefore, we can **reject the null**.\n",
        "\n",
        "It means with a 95% confidence there **is a statistically significant difference** in the mean of the mole count between lighter base skin color and darker base skin color groups.\n",
        "\n",
        "This is telling us that it is very likely to observe a difference in the number of moles between children with lighter base skin color and children with darker base skin color. Children with lighter base skin color are very likely to have more moles."
      ],
      "metadata": {
        "id": "V9cVCkKLxe24"
      }
    },
    {
      "cell_type": "markdown",
      "source": [
        "## Testing the Hypotheses for Question 2\n",
        "**Is there a relationship between the base skin color and the mole count, and is there a relationship between the number of vacations taken and the mole count?**"
      ],
      "metadata": {
        "id": "B5i6wvUQQwKa"
      }
    },
    {
      "cell_type": "markdown",
      "source": [
        "**Testing Hypothesis 6: Base Skin Color & Mole Count**\n",
        "> $H_0$: There is no correlation between the base skin color and the mole count\n",
        "\n",
        "> $H_a$: There is some correlation between the base skin color and the mole count"
      ],
      "metadata": {
        "id": "6CQga3qFzOyR"
      }
    },
    {
      "cell_type": "markdown",
      "source": [
        "First, we use a scatter plot to visualize the potential correlation:"
      ],
      "metadata": {
        "id": "yGLpYGZZ2ymT"
      }
    },
    {
      "cell_type": "code",
      "source": [
        "# display a scatter plot to visualize the correlation\n",
        "plt.figure(figsize=(8,6))\n",
        "plt.title('Base Skin Color vs. Number of Moles', fontdict = {'fontsize' : 20} )\n",
        "sns.regplot(x='baseskincolor', y='molecount2008', data= clean_mole_df)\n",
        "sns.despine()"
      ],
      "metadata": {
        "colab": {
          "base_uri": "https://localhost:8080/",
          "height": 415
        },
        "id": "VkH4Ntiu-bLM",
        "outputId": "2702ff72-f4a4-4a3e-812a-e5424f128efe"
      },
      "execution_count": null,
      "outputs": [
        {
          "output_type": "display_data",
          "data": {
            "text/plain": [
              "<Figure size 576x432 with 1 Axes>"
            ],
            "image/png": "[encoded data removed]"
          },
          "metadata": {}
        }
      ]
    },
    {
      "cell_type": "markdown",
      "source": [
        "Since the scatter plot does not show an obvious correlation between the base skin color and mole count, Pearson’s Correlation Coefficient test will be used to further examine the hypothesis:"
      ],
      "metadata": {
        "id": "WAzssbtUz8Ul"
      }
    },
    {
      "cell_type": "code",
      "source": [
        "# run the person r test\n",
        "stats.pearsonr(clean_mole_df['baseskincolor'],clean_mole_df['molecount2008'])"
      ],
      "metadata": {
        "colab": {
          "base_uri": "https://localhost:8080/"
        },
        "id": "YsxZhm08ETaO",
        "outputId": "fadf3c32-d8d9-4838-c9b2-cf26037e85f7"
      },
      "execution_count": null,
      "outputs": [
        {
          "output_type": "execute_result",
          "data": {
            "text/plain": [
              "(-0.23999390727705466, 7.78102625749745e-07)"
            ]
          },
          "metadata": {},
          "execution_count": 63
        }
      ]
    },
    {
      "cell_type": "markdown",
      "source": [
        "We can see that the r value is -0.23999390727705466 which suggests a weak negative correlation, but the p-value is 7.78102625749745e-07 which is less than the alpha of 0.05. Therefore, we can **reject the null**.\n",
        "\n",
        "We can conclude that there **is a statistically significant relationship** between the base skin color and mole count for children. The darker the children’s base skin color the fewer moles they have."
      ],
      "metadata": {
        "id": "MB2k9E8v09Mm"
      }
    },
    {
      "cell_type": "markdown",
      "source": [
        "**Testing Hypothesis 7: Number of Vacations Taken & Mole Count**\n",
        "> $H_0$: There is no correlation between the number of vacations taken and the mole count\n",
        "\n",
        "> $H_a$: There is some correlation between the number of vacations taken and the mole count"
      ],
      "metadata": {
        "id": "J6sSdF_u2PEf"
      }
    },
    {
      "cell_type": "markdown",
      "source": [
        "First, we use a scatter plot to visualize the potential correlation:"
      ],
      "metadata": {
        "id": "ELJ_0EeG2ec1"
      }
    },
    {
      "cell_type": "code",
      "source": [
        "# display a scatter plot to visualize the correlation\n",
        "plt.figure(figsize=(8,6))\n",
        "plt.title('Number of Vacations Taken vs. Number of Moles', fontdict = {'fontsize' : 20} )\n",
        "sns.regplot(x='number vacs  birth thru 2007', y='molecount2008', data= clean_mole_df)\n",
        "sns.despine()"
      ],
      "metadata": {
        "colab": {
          "base_uri": "https://localhost:8080/",
          "height": 415
        },
        "id": "zqbBpoqmLq7a",
        "outputId": "f3336bd5-0750-40fb-e4c1-a82cdc692b01"
      },
      "execution_count": null,
      "outputs": [
        {
          "output_type": "display_data",
          "data": {
            "text/plain": [
              "<Figure size 576x432 with 1 Axes>"
            ],
            "image/png": "[encoded data removed]"
          },
          "metadata": {}
        }
      ]
    },
    {
      "cell_type": "markdown",
      "source": [
        "Again, the scatter plot does not show an obvious correlation between number of vacations taken and mole count, Pearson’s Correlation Coefficient test will be used to further examine the hypothesis:"
      ],
      "metadata": {
        "id": "hknEMWBV29Ec"
      }
    },
    {
      "cell_type": "code",
      "source": [
        "# run the person r test\n",
        "stats.pearsonr(clean_mole_df['number vacs  birth thru 2007'],clean_mole_df['molecount2008'])"
      ],
      "metadata": {
        "colab": {
          "base_uri": "https://localhost:8080/"
        },
        "id": "MZBWPMAbJvtU",
        "outputId": "c977778d-5f5b-4970-efd2-76bd0646ce9c"
      },
      "execution_count": null,
      "outputs": [
        {
          "output_type": "execute_result",
          "data": {
            "text/plain": [
              "(0.10859041411504917, 0.02715068383576409)"
            ]
          },
          "metadata": {},
          "execution_count": 65
        }
      ]
    },
    {
      "cell_type": "markdown",
      "source": [
        "We can see that the p-value is 0.02715068383576409 which is less than the alpha of 0.05. Therefore, we can **reject the null**.\n",
        "\n",
        "We can conclude that there **is a statistically significant relationship** between the number of vacations children take and their mole count. The more vacations the children take the more moles they have.\n",
        "\n",
        "The r value here is 0.10859041411504917, it suggests a weak positive correlation between the number of vacations taken and the mole count. Since we don’t have detailed data about the destination of the vacations and the sun protection behavior of the participant, it is understandable that we don’t see a strong correlation between the number of vacations taken and the mole count here. But with the result of our test, we can confirm that the correlation is significant."
      ],
      "metadata": {
        "id": "goCfS7z83T1Z"
      }
    },
    {
      "cell_type": "markdown",
      "source": [
        "# Summary and Next Steps"
      ],
      "metadata": {
        "id": "f1Au5BE45TVs"
      }
    },
    {
      "cell_type": "markdown",
      "source": [
        "### **With our analyses of the mole count in Colorado Children we can make the following conclusions:**\n",
        "\n",
        "There **is a** statistically significant difference in the mean of mole count between:\n",
        "> * Hispanic and Non-Hispanic children \n",
        "> * Children with blue or green eyes and children with brown or hazel eyes\n",
        "> * Children with lighter base skin color and children with darker base skin color\n",
        "\n",
        "> In other words, Non-Hispanic children, children with blue or green eyes, and children with lighter base skin color are more likely to have more moles.\n",
        "\n",
        "\n",
        "There **is no** statistically significant difference in the mean of mole count between:\n",
        "> * Boys and Girls\n",
        "> * Children with light hair and children with dark Hair\n",
        "\n",
        "There **is a** relationship between mole count and:\n",
        "> * Base Skin Color (negative)\n",
        "> * Number of Vacations Taken (positive)\n",
        "\n",
        "> The darker the children’s base skin color is the fewer moles they have, and the more vacations the children take the more moles they have.\n",
        "\n",
        "\n"
      ],
      "metadata": {
        "id": "KBLR0qcc8rsf"
      }
    },
    {
      "cell_type": "markdown",
      "source": [
        "### **Next steps and recommendations:**\n",
        "\n",
        "* Research shows that the number of moles is related to sun exposure and our analysis found the significance in the relationship. However, the correlation we’ve seen from this analysis is not strong. Therefore, in order to find more evidence that supports the relationship between the number of vacations taken and the mole count. We might want to collect more data to study sun exposure during vacations, such as vacation destinations, type of event, hours of exposure, protection efforts taken, and so forth.\n",
        "\n",
        "* Our dataset includes data on genotype and the data that will support the longitudinal study of mole development over years. This project did not cover these aspects. In the future, we can surely do some further analyses on these subjects. Understanding mole development over time will aid the understanding of the complicated relationship between mole development and melanoma.\n",
        "\n",
        "\n",
        "* The CDC and parents of young children may find this research useful. Knowing whether the demographic backgrounds and genetic characteristics play the role in children’s mole development and the impact of the number of vacations taken on the number of moles can be helpful for parents to understand their children’s risk of getting melanoma. It will be helpful for CDC to advise the general public in taking prevention efforts such as reducing sun exposure and taking preventional skin cancer screening.\n",
        "\n",
        "<br>\n",
        "<br>\n",
        "\n",
        "This is the end of the Notebook. Thanks for your interest! : )\n",
        "\n",
        "<br>\n",
        "<br>\n"
      ],
      "metadata": {
        "id": "bTZzO7gN9e0I"
      }
    }
  ]
}